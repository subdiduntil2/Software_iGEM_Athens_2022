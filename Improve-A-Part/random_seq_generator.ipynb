{
 "cells": [
  {
   "cell_type": "code",
   "execution_count": 3,
   "id": "2983aed5",
   "metadata": {},
   "outputs": [],
   "source": [
    "import numpy as np\n",
    "import pandas as pd\n",
    "import re\n",
    "from Bio import SeqIO"
   ]
  },
  {
   "cell_type": "code",
   "execution_count": 4,
   "id": "0b555665",
   "metadata": {},
   "outputs": [],
   "source": [
    "BASES = ('A', 'C', 'T', 'G') #create 5 and 6 long spacers\n",
    "rbs_num=100\n",
    "P = (0.2, 0.2, 0.3, 0.3)\n",
    "spacer=[]\n",
    "\n",
    "def random_dna_sequence(length):\n",
    "    return ''.join(np.random.choice(BASES, p=P) for _ in range(length))\n",
    "\n",
    "\n",
    "for i in range(rbs_num):\n",
    "    spacer.append(random_dna_sequence(5))\n",
    "\n",
    "for i in range(rbs_num):\n",
    "    spacer.append(random_dna_sequence(6))\n",
    "\n",
    "\n",
    "\n",
    "\n",
    "\n",
    "    \n"
   ]
  },
  {
   "cell_type": "code",
   "execution_count": 5,
   "id": "6e2b37bb",
   "metadata": {},
   "outputs": [
    {
     "name": "stdout",
     "output_type": "stream",
     "text": [
      "TTTTG GACTTA 5 6\n"
     ]
    }
   ],
   "source": [
    "print(spacer[0],spacer[150],len(spacer[0]),len(spacer[150]))#print spacers\n",
    "#print(spacer) "
   ]
  },
  {
   "cell_type": "code",
   "execution_count": 6,
   "id": "ec75b18f",
   "metadata": {},
   "outputs": [],
   "source": [
    "short_part_034_5='AGAGGAGAAA' #mazi 2 prwta nucleotides spacer apo registry (AA sto telos)\n",
    "short_part_034_6='GAGGAGAAA'  #create 16-long RBS_B0034s with changed spacers (+names)\n",
    "\n",
    "RBS_16=[]\n",
    "RBS_16_name=[]\n",
    "for i in range(rbs_num):\n",
    "    RBS_16.append(short_part_034_5+spacer[i]+'A')\n",
    "    RBS_16_name.append('RBS_16_spacer_5_vol_'+ str(i+1))\n",
    "    \n",
    "for i in range(rbs_num):\n",
    "    RBS_16.append(short_part_034_6+spacer[i+rbs_num]+'A')\n",
    "    RBS_16_name.append('RBS_16_spacer_6_vol_'+ str(i+1))\n",
    "\n",
    "\n",
    "\n"
   ]
  },
  {
   "cell_type": "code",
   "execution_count": 7,
   "id": "624746f1",
   "metadata": {},
   "outputs": [
    {
     "name": "stdout",
     "output_type": "stream",
     "text": [
      "16 16 RBS_16_spacer_5_vol_11 RBS_16_spacer_6_vol_100 AGAGGAGAAATGAACA GAGGAGAAAGTATATA\n"
     ]
    }
   ],
   "source": [
    "print(len(RBS_16[10]),len(RBS_16[199]),RBS_16_name[10],RBS_16_name[199],RBS_16[10],RBS_16[100]) #print 22aria RBS(+lengths)\n",
    "#print(RBS_16) \n",
    "#print(RBS_16_name)"
   ]
  },
  {
   "cell_type": "code",
   "execution_count": 8,
   "id": "b3aaf1ee",
   "metadata": {},
   "outputs": [],
   "source": [
    "long_part_034_5='GAAAGAGGAGAAA' #mazi 2 prwta nucleotides spacer apo registry (AA sto telos)\n",
    "long_part_034_6='AAAGAGGAGAAA' #create 22-aria RBS_B0034 (+names)\n",
    "\n",
    "RBS_22=[]\n",
    "RBS_22_name=[]\n",
    "for i in range(rbs_num):\n",
    "    RBS_22.append(long_part_034_5+spacer[i]+'AATG')\n",
    "    RBS_22_name.append('RBS_22_spacer_5_vol_'+ str(i+1))\n",
    "    \n",
    "for i in range(rbs_num):\n",
    "    RBS_22.append(long_part_034_6+spacer[i+rbs_num]+'AATG')\n",
    "    RBS_22_name.append('RBS_22_spacer_6_vol_'+ str(i+1))\n"
   ]
  },
  {
   "cell_type": "code",
   "execution_count": 9,
   "id": "ac0480a9",
   "metadata": {},
   "outputs": [
    {
     "name": "stdout",
     "output_type": "stream",
     "text": [
      "22 22 RBS_22_spacer_5_vol_11 RBS_22_spacer_6_vol_100 GAAAGAGGAGAAATGAACAATG GAAAGAGGAGAAAATTATAATG\n"
     ]
    }
   ],
   "source": [
    "print(len(RBS_22[10]),len(RBS_22[199]),RBS_22_name[10],RBS_22_name[199],RBS_22[10],RBS_22[99]) #print 22aria RBS(+lengths)\n",
    "#print(RBS_22) \n",
    "#print(RBS_22_name)"
   ]
  },
  {
   "cell_type": "code",
   "execution_count": 10,
   "id": "eaa36a0c",
   "metadata": {},
   "outputs": [],
   "source": [
    "#create exported .csv files for RBS_B0034\n",
    "df_16_temp=pd.DataFrame(RBS_16,RBS_16_name)\n",
    "#print(df_16_temp)\n",
    "df_16_temp.to_csv('RBS_B0034_16s.csv')\n",
    "\n",
    "df_22_temp=pd.DataFrame(RBS_22,RBS_22_name)\n",
    "#print(df_22_temp)\n",
    "df_22_temp.to_csv('RBS_B0034_22s.csv')\n"
   ]
  },
  {
   "cell_type": "code",
   "execution_count": 11,
   "id": "d8901ab1",
   "metadata": {},
   "outputs": [],
   "source": [
    "#read RBSs of dataset and create csv_files\n",
    "df_paper = pd.read_excel (r'.\\modified_initial_dataset.xlsx') #rows -> 921 prwtes train kai 62 teleutaies test\n",
    "#print(df_paper)\n",
    "RBS_paper_16_array=df_paper['RBS'].to_numpy()\n",
    "#print(rbs_16_array,type(rbs_16_array))\n",
    "\n",
    "RBS_paper_16_name=[] #create names\n",
    "\n",
    "for i in range(len(RBS_paper_16_array)):\n",
    "    if(i<921): RBS_paper_16_name.append('paper_RBS_16_train_'+str(i))\n",
    "    else: RBS_paper_16_name.append('paper_RBS_16_test_'+str(i-921))\n",
    "        \n",
    "df_paper_16_temp=pd.DataFrame(RBS_paper_16_array,RBS_paper_16_name)\n",
    "df_paper_16_temp.to_csv('RBS_paper_16s.csv')        \n",
    "\n",
    "\n",
    "\n",
    "\n"
   ]
  },
  {
   "cell_type": "code",
   "execution_count": 12,
   "id": "c079f666",
   "metadata": {},
   "outputs": [],
   "source": [
    "RBS_paper_22_array=[] #omoiws gia 22aria (apla prepei prwta na prosthethoun ta sequences gurw)\n",
    "for i in range(len(RBS_paper_16_array)):\n",
    "    RBS_paper_22_array.append('TAA'+RBS_paper_16_array[i]+'ATG')\n",
    "    \n",
    "RBS_paper_22_name=[] #create names\n",
    "\n",
    "for i in range(len(RBS_paper_22_array)):\n",
    "    if(i<921): RBS_paper_22_name.append('paper_RBS_22_train_'+str(i))\n",
    "    else: RBS_paper_22_name.append('paper_RBS_22_test_'+str(i-921))\n",
    "\n",
    "        \n",
    "df_paper_22_temp=pd.DataFrame(RBS_paper_22_array,RBS_paper_22_name)\n",
    "df_paper_22_temp.to_csv('RBS_paper_22s.csv')        \n",
    "\n"
   ]
  },
  {
   "cell_type": "code",
   "execution_count": null,
   "id": "7417187d",
   "metadata": {},
   "outputs": [],
   "source": []
  },
  {
   "cell_type": "code",
   "execution_count": 13,
   "id": "f708c089",
   "metadata": {},
   "outputs": [],
   "source": [
    "def compute_lengths(string): #function for all minus average bbp and Y\n",
    "    spacer=string[-6:]       #apla kratame ta 16aria gia auto\n",
    "    RBS_len=len(string)\n",
    "    spacer_len=len(spacer)\n",
    "    A_RBS_per=string.count('A')/RBS_len\n",
    "    T_RBS_per=string.count('T')/RBS_len\n",
    "    G_RBS_per=string.count('G')/RBS_len\n",
    "    C_RBS_per=string.count('C')/RBS_len\n",
    "    A_spacer_per=spacer.count('A')/spacer_len\n",
    "    T_spacer_per=spacer.count('T')/spacer_len\n",
    "    C_spacer_per=spacer.count('C')/spacer_len\n",
    "    G_spacer_per=spacer.count('G')/spacer_len\n",
    "    G_or_T_spacer_per=G_spacer_per+T_spacer_per\n",
    "    G_or_C_spacer_per=G_spacer_per+C_spacer_per\n",
    "    G_or_A_spacer_per=G_spacer_per+A_spacer_per\n",
    "    A_or_C_spacer_per=A_spacer_per+C_spacer_per\n",
    "    C_or_T_spacer_per=C_spacer_per+T_spacer_per\n",
    "    A_or_T_spacer_per=A_spacer_per+T_spacer_per\n",
    "    GT_or_TG_spacer=len(re.findall('(?=GT)', spacer))+len(re.findall('(?=TG)', spacer))\n",
    "    GA_or_AG_spacer=len(re.findall('(?=GA)', spacer))+len(re.findall('(?=AG)', spacer))\n",
    "    GC_or_CG_spacer=len(re.findall('(?=GC)', spacer))+len(re.findall('(?=CG)', spacer))\n",
    "    AC_or_CA_spacer=len(re.findall('(?=AC)', spacer))+len(re.findall('(?=CA)', spacer))\n",
    "    CT_or_TC_spacer=len(re.findall('(?=CT)', spacer))+len(re.findall('(?=TC)', spacer))\n",
    "    AT_or_TA_spacer=len(re.findall('(?=AT)', spacer))+len(re.findall('(?=TA)', spacer))\n",
    "    AA_spacer=len(re.findall('(?=AA)', spacer))\n",
    "    TT_spacer=len(re.findall('(?=TT)', spacer))\n",
    "    GG_spacer=len(re.findall('(?=GG)', spacer))\n",
    "    CC_spacer=len(re.findall('(?=CC)', spacer))\n",
    "    \n",
    "    arr_01=[A_RBS_per,T_RBS_per,C_RBS_per,G_RBS_per]\n",
    "    arr_02=[G_or_T_spacer_per*100,G_or_C_spacer_per*100,G_or_A_spacer_per*100,A_or_C_spacer_per*100,C_or_T_spacer_per*100,A_or_T_spacer_per*100]\n",
    "    arr_03=[GT_or_TG_spacer,GA_or_AG_spacer,GC_or_CG_spacer,AC_or_CA_spacer,CT_or_TC_spacer,AT_or_TA_spacer]\n",
    "    arr_04=[AA_spacer,TT_spacer,GG_spacer,CC_spacer,5]\n",
    "    arr=np.concatenate((arr_01,arr_02,arr_03,arr_04))\n",
    "    return arr\n",
    "\n"
   ]
  },
  {
   "cell_type": "code",
   "execution_count": 14,
   "id": "1bfed142",
   "metadata": {},
   "outputs": [
    {
     "name": "stdout",
     "output_type": "stream",
     "text": [
      "[2.50000000e-01 1.87500000e-01 6.25000000e-02 5.00000000e-01\n",
      " 6.66666667e+01 1.66666667e+01 5.00000000e+01 3.33333333e+01\n",
      " 5.00000000e+01 8.33333333e+01 1.00000000e+00 0.00000000e+00\n",
      " 0.00000000e+00 0.00000000e+00 0.00000000e+00 3.00000000e+00\n",
      " 0.00000000e+00 1.00000000e+00 0.00000000e+00 0.00000000e+00\n",
      " 5.00000000e+00]\n"
     ]
    }
   ],
   "source": [
    "final=compute_lengths('GGGCAGGAGGGTTATA') #test for functions (all good)\n",
    "print(final)"
   ]
  },
  {
   "cell_type": "code",
   "execution_count": 15,
   "id": "ce18115b",
   "metadata": {},
   "outputs": [
    {
     "name": "stdout",
     "output_type": "stream",
     "text": [
      "True\n",
      "AAATCCTA\n",
      "True\n",
      "AAGACTTAA\n"
     ]
    }
   ],
   "source": [
    "#parameter names for compute_lengths: RBS_16 & RBS_16_name\n",
    "print(RBS_16_name[10][14]=='5')\n",
    "print(RBS_16[20][-8:])\n",
    "print(RBS_16_name[195][14]=='6')\n",
    "print(RBS_16[150][-9:])"
   ]
  },
  {
   "cell_type": "code",
   "execution_count": 26,
   "id": "794f7f5c",
   "metadata": {},
   "outputs": [],
   "source": [
    "def compute_lengths_mod(string,string_name): #function for all minus average bbp and Y #apla kratame ta 16aria gia auto\n",
    "    if(string_name[14]=='5'): \n",
    "        spacer=string[-8:]\n",
    "    elif(string_name[14]=='6'):\n",
    "        spacer=string[-9:]\n",
    "    #print(string, spacer)\n",
    "    RBS_len=len(string)\n",
    "    spacer_len=len(spacer)\n",
    "    A_RBS_per=string.count('A')/RBS_len\n",
    "    T_RBS_per=string.count('T')/RBS_len\n",
    "    G_RBS_per=string.count('G')/RBS_len\n",
    "    C_RBS_per=string.count('C')/RBS_len\n",
    "    A_spacer_per=spacer.count('A')/spacer_len\n",
    "    T_spacer_per=spacer.count('T')/spacer_len\n",
    "    C_spacer_per=spacer.count('C')/spacer_len\n",
    "    G_spacer_per=spacer.count('G')/spacer_len\n",
    "    G_or_T_spacer_per=G_spacer_per+T_spacer_per\n",
    "    G_or_C_spacer_per=G_spacer_per+C_spacer_per\n",
    "    G_or_A_spacer_per=G_spacer_per+A_spacer_per\n",
    "    A_or_C_spacer_per=A_spacer_per+C_spacer_per\n",
    "    C_or_T_spacer_per=C_spacer_per+T_spacer_per\n",
    "    A_or_T_spacer_per=A_spacer_per+T_spacer_per\n",
    "    GT_or_TG_spacer=len(re.findall('(?=GT)', spacer))+len(re.findall('(?=TG)', spacer))\n",
    "    GA_or_AG_spacer=len(re.findall('(?=GA)', spacer))+len(re.findall('(?=AG)', spacer))\n",
    "    GC_or_CG_spacer=len(re.findall('(?=GC)', spacer))+len(re.findall('(?=CG)', spacer))\n",
    "    AC_or_CA_spacer=len(re.findall('(?=AC)', spacer))+len(re.findall('(?=CA)', spacer))\n",
    "    CT_or_TC_spacer=len(re.findall('(?=CT)', spacer))+len(re.findall('(?=TC)', spacer))\n",
    "    AT_or_TA_spacer=len(re.findall('(?=AT)', spacer))+len(re.findall('(?=TA)', spacer))\n",
    "    AA_spacer=len(re.findall('(?=AA)', spacer))\n",
    "    TT_spacer=len(re.findall('(?=TT)', spacer))\n",
    "    GG_spacer=len(re.findall('(?=GG)', spacer))\n",
    "    CC_spacer=len(re.findall('(?=CC)', spacer))\n",
    "    \n",
    "    arr_01=[A_RBS_per,T_RBS_per,C_RBS_per,G_RBS_per]\n",
    "    arr_02=[G_or_T_spacer_per*100,G_or_C_spacer_per*100,G_or_A_spacer_per*100,A_or_C_spacer_per*100,C_or_T_spacer_per*100,A_or_T_spacer_per*100]\n",
    "    arr_03=[GT_or_TG_spacer,GA_or_AG_spacer,GC_or_CG_spacer,AC_or_CA_spacer,CT_or_TC_spacer,AT_or_TA_spacer]\n",
    "    arr_04=[AA_spacer,TT_spacer,GG_spacer,CC_spacer,5]\n",
    "    arr=np.concatenate((arr_01,arr_02,arr_03,arr_04))\n",
    "    return arr\n"
   ]
  },
  {
   "cell_type": "code",
   "execution_count": 38,
   "id": "8df0696e",
   "metadata": {},
   "outputs": [
    {
     "name": "stdout",
     "output_type": "stream",
     "text": [
      "200\n"
     ]
    }
   ],
   "source": [
    "print(len(RBS_16))\n"
   ]
  },
  {
   "cell_type": "code",
   "execution_count": 30,
   "id": "f3f17cb7",
   "metadata": {},
   "outputs": [
    {
     "name": "stdout",
     "output_type": "stream",
     "text": [
      "983 24\n",
      "                   RBS       A       T       C       G                G+T  \\\n",
      "0     AAACAGGAGAGGAAAG  0.5625     0.0  0.0625   0.375               50.0   \n",
      "1     AAACAGGAGATTGGTC   0.375  0.1875   0.125  0.3125          83.333333   \n",
      "2     AAGAAGGAGAGACCTA     0.5  0.0625   0.125  0.3125          33.333333   \n",
      "3     AAGCAGGAGACTTGTT  0.3125    0.25   0.125  0.3125          83.333333   \n",
      "4     AAGCAGGAGAGGCACC   0.375     0.0    0.25   0.375          33.333333   \n",
      "...                ...     ...     ...     ...     ...                ...   \n",
      "1178  GAGGAGAAACGGTGTA   0.375   0.125  0.0625  0.4375  55.55555555555556   \n",
      "1179  GAGGAGAAATCGTGCA   0.375   0.125   0.125   0.375  44.44444444444444   \n",
      "1180  GAGGAGAAAGTACGGA  0.4375  0.0625  0.0625  0.4375  44.44444444444444   \n",
      "1181  GAGGAGAAAAGTTTAA     0.5  0.1875     0.0  0.3125  44.44444444444444   \n",
      "1182  GAGGAGAAAGGTGATA  0.4375   0.125     0.0  0.4375  55.55555555555556   \n",
      "\n",
      "                    G+C                G+A                A+C  \\\n",
      "0                  50.0              100.0               50.0   \n",
      "1                  50.0          33.333333          16.666667   \n",
      "2                  50.0               50.0          66.666667   \n",
      "3             33.333333          16.666667          16.666667   \n",
      "4             83.333333               50.0          66.666667   \n",
      "...                 ...                ...                ...   \n",
      "1178  44.44444444444444  66.66666666666666  44.44444444444444   \n",
      "1179  44.44444444444444  55.55555555555556  55.55555555555556   \n",
      "1180  44.44444444444444  77.77777777777777  55.55555555555556   \n",
      "1181  11.11111111111111  66.66666666666667  55.55555555555556   \n",
      "1182  33.33333333333333  77.77777777777777  44.44444444444444   \n",
      "\n",
      "                    C+T  ... AC+CA CT+TC AT+TA   AA   TT   GG   CC  \\\n",
      "0                   0.0  ...     0     0     0    2    0    1    0   \n",
      "1             66.666667  ...     0     1     0    0    1    1    0   \n",
      "2                  50.0  ...     1     1     1    0    0    0    1   \n",
      "3             83.333333  ...     0     1     0    0    2    0    0   \n",
      "4                  50.0  ...     2     0     0    0    0    1    1   \n",
      "...                 ...  ...   ...   ...   ...  ...  ...  ...  ...   \n",
      "1178  33.33333333333333  ...   1.0   0.0   1.0  1.0  0.0  1.0  0.0   \n",
      "1179  44.44444444444444  ...   1.0   1.0   1.0  1.0  0.0  0.0  0.0   \n",
      "1180  22.22222222222222  ...   1.0   0.0   1.0  1.0  0.0  1.0  0.0   \n",
      "1181  33.33333333333333  ...   0.0   0.0   1.0  3.0  2.0  0.0  0.0   \n",
      "1182  22.22222222222222  ...   0.0   0.0   2.0  1.0  0.0  1.0  0.0   \n",
      "\n",
      "     Conservatism Average bpp    Y  \n",
      "0               5    0.018988   -1  \n",
      "1               5      0.4517   -1  \n",
      "2               6    0.420075   -1  \n",
      "3               5    0.771537   -1  \n",
      "4               5     0.37425   -1  \n",
      "...           ...         ...  ...  \n",
      "1178          5.0         NaN  NaN  \n",
      "1179          5.0         NaN  NaN  \n",
      "1180          5.0         NaN  NaN  \n",
      "1181          5.0         NaN  NaN  \n",
      "1182          5.0         NaN  NaN  \n",
      "\n",
      "[1183 rows x 24 columns]\n"
     ]
    }
   ],
   "source": [
    "df = pd.read_excel (r'.\\modified_initial_dataset.xlsx')\n",
    "rows_bef,cols=np.shape(df)\n",
    "print(rows_bef,cols)\n",
    "\n",
    "\n",
    "for i in range(len(RBS_16)):\n",
    "    temp=[]\n",
    "    temp.append(RBS_16[i])\n",
    "    final=np.concatenate((temp,compute_lengths_mod(RBS_16[i],RBS_16_name[i]),['NaN','NaN']))\n",
    "    rows_up,cols=np.shape(df)\n",
    "    df.loc[rows_up]=final\n",
    "print(df)\n",
    "\n",
    "df.to_excel('modified_dataset_vol2.xlsx')\n",
    "\n",
    "\n"
   ]
  },
  {
   "cell_type": "code",
   "execution_count": null,
   "id": "7b2b2f6c",
   "metadata": {},
   "outputs": [],
   "source": []
  },
  {
   "cell_type": "code",
   "execution_count": 36,
   "id": "bcf1874e",
   "metadata": {},
   "outputs": [],
   "source": [
    "vienna_rna_seqs_16=np.concatenate((RBS_paper_16_array,RBS_16)) #all RBS names and seqs together (with the same order)\n",
    "vienna_rna_seqs_22=np.concatenate((RBS_paper_22_array,RBS_22))\n",
    "vienna_rna_names_16=np.concatenate((RBS_paper_16_name,RBS_16_name))\n",
    "vienna_rna_names_22=np.concatenate((RBS_paper_22_name,RBS_22_name))\n",
    "\n",
    "\n",
    "vienna_rna_16=pd.DataFrame(vienna_rna_seqs_16,vienna_rna_names_16)\n",
    "vienna_rna_16.to_csv('Vienna_RNA_16s_bef.csv')\n",
    "\n",
    "vienna_rna_22=pd.DataFrame(vienna_rna_seqs_22,vienna_rna_names_22)\n",
    "vienna_rna_22.to_csv('Vienna_RNA_22s_bef.csv')    \n"
   ]
  }
 ],
 "metadata": {
  "kernelspec": {
   "display_name": "Python 3 (ipykernel)",
   "language": "python",
   "name": "python3"
  },
  "language_info": {
   "codemirror_mode": {
    "name": "ipython",
    "version": 3
   },
   "file_extension": ".py",
   "mimetype": "text/x-python",
   "name": "python",
   "nbconvert_exporter": "python",
   "pygments_lexer": "ipython3",
   "version": "3.9.12"
  }
 },
 "nbformat": 4,
 "nbformat_minor": 5
}
