{
 "cells": [
  {
   "cell_type": "code",
   "execution_count": 5,
   "id": "cdf85125",
   "metadata": {},
   "outputs": [],
   "source": [
    "import numpy as np\n",
    "import pandas as pd\n",
    "import re\n",
    "import csv\n",
    "from Bio import SeqIO"
   ]
  },
  {
   "cell_type": "code",
   "execution_count": 23,
   "id": "f1d7645e",
   "metadata": {},
   "outputs": [
    {
     "name": "stdout",
     "output_type": "stream",
     "text": [
      "                    Seq Names         Sequences       A       T       C  \\\n",
      "0        paper_RBS_22_train_0  AAACAGGAGAGGAAAG  0.5625  0.0000  0.0625   \n",
      "1        paper_RBS_22_train_1  AAACAGGAGATTGGTC  0.3750  0.1875  0.1250   \n",
      "2        paper_RBS_22_train_2  AAGAAGGAGAGACCTA  0.5000  0.0625  0.1250   \n",
      "3        paper_RBS_22_train_3  AAGCAGGAGACTTGTT  0.3125  0.2500  0.1250   \n",
      "4        paper_RBS_22_train_4  AAGCAGGAGAGGCACC  0.3750  0.0000  0.2500   \n",
      "...                       ...               ...     ...     ...     ...   \n",
      "1178   RBS_22_spacer_6_vol_96  GAGGAGAAACGGTGTA  0.3750  0.1250  0.0625   \n",
      "1179   RBS_22_spacer_6_vol_97  GAGGAGAAATCGTGCA  0.3750  0.1250  0.1250   \n",
      "1180   RBS_22_spacer_6_vol_98  GAGGAGAAAGTACGGA  0.4375  0.0625  0.0625   \n",
      "1181   RBS_22_spacer_6_vol_99  GAGGAGAAAAGTTTAA  0.5000  0.1875  0.0000   \n",
      "1182  RBS_22_spacer_6_vol_100  GAGGAGAAAGGTGATA  0.4375  0.1250  0.0000   \n",
      "\n",
      "           G        G+T        G+C         G+A        A+C  ...  AC+CA  CT+TC  \\\n",
      "0     0.3750  50.000000  50.000000  100.000000  50.000000  ...    0.0    0.0   \n",
      "1     0.3125  83.333333  50.000000   33.333333  16.666667  ...    0.0    1.0   \n",
      "2     0.3125  33.333333  50.000000   50.000000  66.666667  ...    1.0    1.0   \n",
      "3     0.3125  83.333333  33.333333   16.666667  16.666667  ...    0.0    1.0   \n",
      "4     0.3750  33.333333  83.333333   50.000000  66.666667  ...    2.0    0.0   \n",
      "...      ...        ...        ...         ...        ...  ...    ...    ...   \n",
      "1178  0.4375  55.555556  44.444444   66.666667  44.444444  ...    1.0    0.0   \n",
      "1179  0.3750  44.444444  44.444444   55.555556  55.555556  ...    1.0    1.0   \n",
      "1180  0.4375  44.444444  44.444444   77.777778  55.555556  ...    1.0    0.0   \n",
      "1181  0.3125  44.444444  11.111111   66.666667  55.555556  ...    0.0    0.0   \n",
      "1182  0.4375  55.555556  33.333333   77.777778  44.444444  ...    0.0    0.0   \n",
      "\n",
      "      AT+TA   AA   TT   GG   CC  Conservatism  Average bpp    Y  \n",
      "0       0.0  2.0  0.0  1.0  0.0           5.0     0.031920 -1.0  \n",
      "1       0.0  0.0  1.0  1.0  0.0           5.0     0.679678 -1.0  \n",
      "2       1.0  0.0  0.0  0.0  1.0           6.0     1.493043 -1.0  \n",
      "3       0.0  0.0  2.0  0.0  0.0           5.0     3.261273 -1.0  \n",
      "4       0.0  0.0  0.0  1.0  1.0           5.0     0.866689 -1.0  \n",
      "...     ...  ...  ...  ...  ...           ...          ...  ...  \n",
      "1178    1.0  1.0  0.0  1.0  0.0           5.0     0.100812  NaN  \n",
      "1179    1.0  1.0  0.0  0.0  0.0           5.0     0.799197  NaN  \n",
      "1180    1.0  1.0  0.0  1.0  0.0           5.0     0.036339  NaN  \n",
      "1181    1.0  3.0  2.0  0.0  0.0           5.0     0.099998  NaN  \n",
      "1182    2.0  1.0  0.0  1.0  0.0           5.0     0.025272  NaN  \n",
      "\n",
      "[1183 rows x 25 columns]\n"
     ]
    }
   ],
   "source": [
    "df_vol2 = pd.read_excel (r'.\\modified_dataset_vol2.xlsx') #with python 3 kernel\n",
    "df_vol2 = df_vol2.loc[:, ~df_vol2.columns.str.contains('^Unnamed')]\n",
    "df_vol2=df_vol2.rename(columns={'RBS':'Sequences'})\n",
    "df_vienna = pd.read_csv('Vienna_RNA_22s_after.csv') #insert one row above\n",
    "#print(df_vol2,df_vienna)\n",
    "\n",
    "#create final dataframe before ML analysis\n",
    "df_vol2['Average bpp']=df_vienna['Average bpp']\n",
    "df_vol2['Seq Names']=df_vienna['Seq Names']\n",
    "temp_cols=df_vol2.columns.tolist()\n",
    "new_cols=temp_cols[-1:] + temp_cols[:-1]\n",
    "df_vol2=df_vol2[new_cols]\n",
    "print(df_vol2)\n",
    "df_vol2.to_excel('modified_dataset_final.xlsx')"
   ]
  }
 ],
 "metadata": {
  "kernelspec": {
   "display_name": "Python 3.10.7 64-bit (microsoft store)",
   "language": "python",
   "name": "python3"
  },
  "language_info": {
   "codemirror_mode": {
    "name": "ipython",
    "version": 3
   },
   "file_extension": ".py",
   "mimetype": "text/x-python",
   "name": "python",
   "nbconvert_exporter": "python",
   "pygments_lexer": "ipython3",
   "version": "3.10.7"
  },
  "vscode": {
   "interpreter": {
    "hash": "2e30c8476bd84d5419f6081d39ecd77ef51ccbf8b386a9784f6d755a32adf0af"
   }
  }
 },
 "nbformat": 4,
 "nbformat_minor": 5
}
