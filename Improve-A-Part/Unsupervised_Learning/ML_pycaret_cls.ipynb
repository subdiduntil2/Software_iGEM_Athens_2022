{
 "cells": [
  {
   "cell_type": "code",
   "execution_count": 112,
   "id": "62af6589",
   "metadata": {},
   "outputs": [],
   "source": [
    "import numpy as np\n",
    "import pandas as pd\n",
    "from pycaret.anomaly import *\n",
    "import pip"
   ]
  },
  {
   "cell_type": "code",
   "execution_count": 113,
   "id": "c5759ca9",
   "metadata": {},
   "outputs": [
    {
     "name": "stderr",
     "output_type": "stream",
     "text": [
      "WARNING: pip is being invoked by an old script wrapper. This will fail in a future version of pip.\n",
      "Please see https://github.com/pypa/pip/issues/5599 for advice on fixing the underlying issue.\n",
      "To avoid this problem you can invoke Python with '-m pip' instead of running pip directly.\n"
     ]
    },
    {
     "data": {
      "text/html": [
       "<pre style=\"white-space:pre;overflow-x:auto;line-height:normal;font-family:Menlo,'DejaVu Sans Mono',consolas,'Courier New',monospace\">Requirement already satisfied: openpyxl in c:\\users\\manos\\anaconda3\\envs\\pycaret_env\\lib\\site-packages (3.0.10)\n",
       "</pre>\n"
      ],
      "text/plain": [
       "Requirement already satisfied: openpyxl in c:\\users\\manos\\anaconda3\\envs\\pycaret_env\\lib\\site-packages (3.0.10)\n"
      ]
     },
     "metadata": {},
     "output_type": "display_data"
    },
    {
     "data": {
      "text/html": [
       "<pre style=\"white-space:pre;overflow-x:auto;line-height:normal;font-family:Menlo,'DejaVu Sans Mono',consolas,'Courier New',monospace\">Requirement already satisfied: et-xmlfile in c:\\users\\manos\\anaconda3\\envs\\pycaret_env\\lib\\site-packages (from openpyxl) (1.1.0)\n",
       "</pre>\n"
      ],
      "text/plain": [
       "Requirement already satisfied: et-xmlfile in c:\\users\\manos\\anaconda3\\envs\\pycaret_env\\lib\\site-packages (from openpyxl) (1.1.0)\n"
      ]
     },
     "metadata": {},
     "output_type": "display_data"
    },
    {
     "data": {
      "text/plain": [
       "0"
      ]
     },
     "execution_count": 113,
     "metadata": {},
     "output_type": "execute_result"
    }
   ],
   "source": [
    "import pip #for installation openpyxl (run this once)\n",
    "pip.main([\"install\", \"openpyxl\"])"
   ]
  },
  {
   "cell_type": "code",
   "execution_count": 114,
   "id": "eb399954",
   "metadata": {},
   "outputs": [
    {
     "name": "stdout",
     "output_type": "stream",
     "text": [
      "                    Seq Names         Sequences       A       T       C  \\\n",
      "0        paper_RBS_22_train_0  AAACAGGAGAGGAAAG  0.5625  0.0000  0.0625   \n",
      "1        paper_RBS_22_train_1  AAACAGGAGATTGGTC  0.3750  0.1875  0.1250   \n",
      "2        paper_RBS_22_train_2  AAGAAGGAGAGACCTA  0.5000  0.0625  0.1250   \n",
      "3        paper_RBS_22_train_3  AAGCAGGAGACTTGTT  0.3125  0.2500  0.1250   \n",
      "4        paper_RBS_22_train_4  AAGCAGGAGAGGCACC  0.3750  0.0000  0.2500   \n",
      "...                       ...               ...     ...     ...     ...   \n",
      "1178   RBS_22_spacer_6_vol_96  GAGGAGAAACGGTGTA  0.3750  0.1250  0.0625   \n",
      "1179   RBS_22_spacer_6_vol_97  GAGGAGAAATCGTGCA  0.3750  0.1250  0.1250   \n",
      "1180   RBS_22_spacer_6_vol_98  GAGGAGAAAGTACGGA  0.4375  0.0625  0.0625   \n",
      "1181   RBS_22_spacer_6_vol_99  GAGGAGAAAAGTTTAA  0.5000  0.1875  0.0000   \n",
      "1182  RBS_22_spacer_6_vol_100  GAGGAGAAAGGTGATA  0.4375  0.1250  0.0000   \n",
      "\n",
      "           G        G+T        G+C         G+A        A+C  ...  AC+CA  CT+TC  \\\n",
      "0     0.3750  50.000000  50.000000  100.000000  50.000000  ...      0      0   \n",
      "1     0.3125  83.333333  50.000000   33.333333  16.666667  ...      0      1   \n",
      "2     0.3125  33.333333  50.000000   50.000000  66.666667  ...      1      1   \n",
      "3     0.3125  83.333333  33.333333   16.666667  16.666667  ...      0      1   \n",
      "4     0.3750  33.333333  83.333333   50.000000  66.666667  ...      2      0   \n",
      "...      ...        ...        ...         ...        ...  ...    ...    ...   \n",
      "1178  0.4375  55.555556  44.444444   66.666667  44.444444  ...      1      0   \n",
      "1179  0.3750  44.444444  44.444444   55.555556  55.555556  ...      1      1   \n",
      "1180  0.4375  44.444444  44.444444   77.777778  55.555556  ...      1      0   \n",
      "1181  0.3125  44.444444  11.111111   66.666667  55.555556  ...      0      0   \n",
      "1182  0.4375  55.555556  33.333333   77.777778  44.444444  ...      0      0   \n",
      "\n",
      "      AT+TA  AA  TT  GG  CC  Conservatism  Average bpp    Y  \n",
      "0         0   2   0   1   0             5     0.031920 -1.0  \n",
      "1         0   0   1   1   0             5     0.679678 -1.0  \n",
      "2         1   0   0   0   1             6     1.493043 -1.0  \n",
      "3         0   0   2   0   0             5     3.261273 -1.0  \n",
      "4         0   0   0   1   1             5     0.866689 -1.0  \n",
      "...     ...  ..  ..  ..  ..           ...          ...  ...  \n",
      "1178      1   1   0   1   0             5     0.100812  NaN  \n",
      "1179      1   1   0   0   0             5     0.799197  NaN  \n",
      "1180      1   1   0   1   0             5     0.036339  NaN  \n",
      "1181      1   3   2   0   0             5     0.099998  NaN  \n",
      "1182      2   1   0   1   0             5     0.025272  NaN  \n",
      "\n",
      "[1183 rows x 25 columns]\n"
     ]
    }
   ],
   "source": [
    "df_final=pd.read_excel('modified_dataset_final.xlsx') #read csv file after vienna_rna modification\n",
    "df_final = df_final.loc[:, ~df_final.columns.str.contains('^Unnamed')]\n",
    "print(df_final)"
   ]
  },
  {
   "cell_type": "code",
   "execution_count": 115,
   "id": "1d812a08",
   "metadata": {},
   "outputs": [
    {
     "name": "stdout",
     "output_type": "stream",
     "text": [
      "           A       T       C       G        G+T        G+C         G+A  \\\n",
      "0     0.5625  0.0000  0.0625  0.3750  50.000000  50.000000  100.000000   \n",
      "1     0.3750  0.1875  0.1250  0.3125  83.333333  50.000000   33.333333   \n",
      "2     0.5000  0.0625  0.1250  0.3125  33.333333  50.000000   50.000000   \n",
      "3     0.3125  0.2500  0.1250  0.3125  83.333333  33.333333   16.666667   \n",
      "4     0.3750  0.0000  0.2500  0.3750  33.333333  83.333333   50.000000   \n",
      "...      ...     ...     ...     ...        ...        ...         ...   \n",
      "1178  0.3750  0.1250  0.0625  0.4375  55.555556  44.444444   66.666667   \n",
      "1179  0.3750  0.1250  0.1250  0.3750  44.444444  44.444444   55.555556   \n",
      "1180  0.4375  0.0625  0.0625  0.4375  44.444444  44.444444   77.777778   \n",
      "1181  0.5000  0.1875  0.0000  0.3125  44.444444  11.111111   66.666667   \n",
      "1182  0.4375  0.1250  0.0000  0.4375  55.555556  33.333333   77.777778   \n",
      "\n",
      "            A+C        C+T        A+T  ...  GC+CG  AC+CA  CT+TC  AT+TA  AA  \\\n",
      "0     50.000000   0.000000  50.000000  ...      0      0      0      0   2   \n",
      "1     16.666667  66.666667  50.000000  ...      0      0      1      0   0   \n",
      "2     66.666667  50.000000  50.000000  ...      0      1      1      1   0   \n",
      "3     16.666667  83.333333  66.666667  ...      0      0      1      0   0   \n",
      "4     66.666667  50.000000  16.666667  ...      1      2      0      0   0   \n",
      "...         ...        ...        ...  ...    ...    ...    ...    ...  ..   \n",
      "1178  44.444444  33.333333  55.555556  ...      1      1      0      1   1   \n",
      "1179  55.555556  44.444444  55.555556  ...      2      1      1      1   1   \n",
      "1180  55.555556  22.222222  55.555556  ...      1      1      0      1   1   \n",
      "1181  55.555556  33.333333  88.888889  ...      0      0      0      1   3   \n",
      "1182  44.444444  22.222222  66.666667  ...      0      0      0      2   1   \n",
      "\n",
      "      TT  GG  CC  Conservatism  Average bpp  \n",
      "0      0   1   0             5     0.031920  \n",
      "1      1   1   0             5     0.679678  \n",
      "2      0   0   1             6     1.493043  \n",
      "3      2   0   0             5     3.261273  \n",
      "4      0   1   1             5     0.866689  \n",
      "...   ..  ..  ..           ...          ...  \n",
      "1178   0   1   0             5     0.100812  \n",
      "1179   0   0   0             5     0.799197  \n",
      "1180   0   1   0             5     0.036339  \n",
      "1181   2   0   0             5     0.099998  \n",
      "1182   0   1   0             5     0.025272  \n",
      "\n",
      "[1183 rows x 22 columns]\n"
     ]
    }
   ],
   "source": [
    "#print(df_final.loc[:920]) #train_paper\n",
    "#print(df_final.loc[921:982]) #test_paper\n",
    "#print(df_final.loc[983:1082]) #spacer_5\n",
    "#print(df_final.loc[1083:1182]) #spacer_6\n",
    "df_final_exec=df_final.drop(['Seq Names','Sequences','Y'],axis=1) #delete labels\n",
    "print(df_final_exec)"
   ]
  },
  {
   "cell_type": "code",
   "execution_count": 116,
   "id": "0f0b5f8b",
   "metadata": {},
   "outputs": [
    {
     "data": {
      "text/html": [
       "<style type=\"text/css\">\n",
       "</style>\n",
       "<table id=\"T_4c851\">\n",
       "  <thead>\n",
       "    <tr>\n",
       "      <th class=\"blank level0\" >&nbsp;</th>\n",
       "      <th id=\"T_4c851_level0_col0\" class=\"col_heading level0 col0\" >Description</th>\n",
       "      <th id=\"T_4c851_level0_col1\" class=\"col_heading level0 col1\" >Value</th>\n",
       "    </tr>\n",
       "  </thead>\n",
       "  <tbody>\n",
       "    <tr>\n",
       "      <th id=\"T_4c851_level0_row0\" class=\"row_heading level0 row0\" >0</th>\n",
       "      <td id=\"T_4c851_row0_col0\" class=\"data row0 col0\" >session_id</td>\n",
       "      <td id=\"T_4c851_row0_col1\" class=\"data row0 col1\" >7211</td>\n",
       "    </tr>\n",
       "    <tr>\n",
       "      <th id=\"T_4c851_level0_row1\" class=\"row_heading level0 row1\" >1</th>\n",
       "      <td id=\"T_4c851_row1_col0\" class=\"data row1 col0\" >Original Data</td>\n",
       "      <td id=\"T_4c851_row1_col1\" class=\"data row1 col1\" >(921, 22)</td>\n",
       "    </tr>\n",
       "    <tr>\n",
       "      <th id=\"T_4c851_level0_row2\" class=\"row_heading level0 row2\" >2</th>\n",
       "      <td id=\"T_4c851_row2_col0\" class=\"data row2 col0\" >Missing Values</td>\n",
       "      <td id=\"T_4c851_row2_col1\" class=\"data row2 col1\" >False</td>\n",
       "    </tr>\n",
       "    <tr>\n",
       "      <th id=\"T_4c851_level0_row3\" class=\"row_heading level0 row3\" >3</th>\n",
       "      <td id=\"T_4c851_row3_col0\" class=\"data row3 col0\" >Numeric Features</td>\n",
       "      <td id=\"T_4c851_row3_col1\" class=\"data row3 col1\" >11</td>\n",
       "    </tr>\n",
       "    <tr>\n",
       "      <th id=\"T_4c851_level0_row4\" class=\"row_heading level0 row4\" >4</th>\n",
       "      <td id=\"T_4c851_row4_col0\" class=\"data row4 col0\" >Categorical Features</td>\n",
       "      <td id=\"T_4c851_row4_col1\" class=\"data row4 col1\" >11</td>\n",
       "    </tr>\n",
       "    <tr>\n",
       "      <th id=\"T_4c851_level0_row5\" class=\"row_heading level0 row5\" >5</th>\n",
       "      <td id=\"T_4c851_row5_col0\" class=\"data row5 col0\" >Ordinal Features</td>\n",
       "      <td id=\"T_4c851_row5_col1\" class=\"data row5 col1\" >False</td>\n",
       "    </tr>\n",
       "    <tr>\n",
       "      <th id=\"T_4c851_level0_row6\" class=\"row_heading level0 row6\" >6</th>\n",
       "      <td id=\"T_4c851_row6_col0\" class=\"data row6 col0\" >High Cardinality Features</td>\n",
       "      <td id=\"T_4c851_row6_col1\" class=\"data row6 col1\" >False</td>\n",
       "    </tr>\n",
       "    <tr>\n",
       "      <th id=\"T_4c851_level0_row7\" class=\"row_heading level0 row7\" >7</th>\n",
       "      <td id=\"T_4c851_row7_col0\" class=\"data row7 col0\" >High Cardinality Method</td>\n",
       "      <td id=\"T_4c851_row7_col1\" class=\"data row7 col1\" >None</td>\n",
       "    </tr>\n",
       "    <tr>\n",
       "      <th id=\"T_4c851_level0_row8\" class=\"row_heading level0 row8\" >8</th>\n",
       "      <td id=\"T_4c851_row8_col0\" class=\"data row8 col0\" >Transformed Data</td>\n",
       "      <td id=\"T_4c851_row8_col1\" class=\"data row8 col1\" >(921, 66)</td>\n",
       "    </tr>\n",
       "    <tr>\n",
       "      <th id=\"T_4c851_level0_row9\" class=\"row_heading level0 row9\" >9</th>\n",
       "      <td id=\"T_4c851_row9_col0\" class=\"data row9 col0\" >CPU Jobs</td>\n",
       "      <td id=\"T_4c851_row9_col1\" class=\"data row9 col1\" >-1</td>\n",
       "    </tr>\n",
       "    <tr>\n",
       "      <th id=\"T_4c851_level0_row10\" class=\"row_heading level0 row10\" >10</th>\n",
       "      <td id=\"T_4c851_row10_col0\" class=\"data row10 col0\" >Use GPU</td>\n",
       "      <td id=\"T_4c851_row10_col1\" class=\"data row10 col1\" >False</td>\n",
       "    </tr>\n",
       "    <tr>\n",
       "      <th id=\"T_4c851_level0_row11\" class=\"row_heading level0 row11\" >11</th>\n",
       "      <td id=\"T_4c851_row11_col0\" class=\"data row11 col0\" >Log Experiment</td>\n",
       "      <td id=\"T_4c851_row11_col1\" class=\"data row11 col1\" >False</td>\n",
       "    </tr>\n",
       "    <tr>\n",
       "      <th id=\"T_4c851_level0_row12\" class=\"row_heading level0 row12\" >12</th>\n",
       "      <td id=\"T_4c851_row12_col0\" class=\"data row12 col0\" >Experiment Name</td>\n",
       "      <td id=\"T_4c851_row12_col1\" class=\"data row12 col1\" >anomaly-default-name</td>\n",
       "    </tr>\n",
       "    <tr>\n",
       "      <th id=\"T_4c851_level0_row13\" class=\"row_heading level0 row13\" >13</th>\n",
       "      <td id=\"T_4c851_row13_col0\" class=\"data row13 col0\" >USI</td>\n",
       "      <td id=\"T_4c851_row13_col1\" class=\"data row13 col1\" >b64d</td>\n",
       "    </tr>\n",
       "    <tr>\n",
       "      <th id=\"T_4c851_level0_row14\" class=\"row_heading level0 row14\" >14</th>\n",
       "      <td id=\"T_4c851_row14_col0\" class=\"data row14 col0\" >Imputation Type</td>\n",
       "      <td id=\"T_4c851_row14_col1\" class=\"data row14 col1\" >simple</td>\n",
       "    </tr>\n",
       "    <tr>\n",
       "      <th id=\"T_4c851_level0_row15\" class=\"row_heading level0 row15\" >15</th>\n",
       "      <td id=\"T_4c851_row15_col0\" class=\"data row15 col0\" >Iterative Imputation Iteration</td>\n",
       "      <td id=\"T_4c851_row15_col1\" class=\"data row15 col1\" >None</td>\n",
       "    </tr>\n",
       "    <tr>\n",
       "      <th id=\"T_4c851_level0_row16\" class=\"row_heading level0 row16\" >16</th>\n",
       "      <td id=\"T_4c851_row16_col0\" class=\"data row16 col0\" >Numeric Imputer</td>\n",
       "      <td id=\"T_4c851_row16_col1\" class=\"data row16 col1\" >mean</td>\n",
       "    </tr>\n",
       "    <tr>\n",
       "      <th id=\"T_4c851_level0_row17\" class=\"row_heading level0 row17\" >17</th>\n",
       "      <td id=\"T_4c851_row17_col0\" class=\"data row17 col0\" >Iterative Imputation Numeric Model</td>\n",
       "      <td id=\"T_4c851_row17_col1\" class=\"data row17 col1\" >None</td>\n",
       "    </tr>\n",
       "    <tr>\n",
       "      <th id=\"T_4c851_level0_row18\" class=\"row_heading level0 row18\" >18</th>\n",
       "      <td id=\"T_4c851_row18_col0\" class=\"data row18 col0\" >Categorical Imputer</td>\n",
       "      <td id=\"T_4c851_row18_col1\" class=\"data row18 col1\" >mode</td>\n",
       "    </tr>\n",
       "    <tr>\n",
       "      <th id=\"T_4c851_level0_row19\" class=\"row_heading level0 row19\" >19</th>\n",
       "      <td id=\"T_4c851_row19_col0\" class=\"data row19 col0\" >Iterative Imputation Categorical Model</td>\n",
       "      <td id=\"T_4c851_row19_col1\" class=\"data row19 col1\" >None</td>\n",
       "    </tr>\n",
       "    <tr>\n",
       "      <th id=\"T_4c851_level0_row20\" class=\"row_heading level0 row20\" >20</th>\n",
       "      <td id=\"T_4c851_row20_col0\" class=\"data row20 col0\" >Unknown Categoricals Handling</td>\n",
       "      <td id=\"T_4c851_row20_col1\" class=\"data row20 col1\" >least_frequent</td>\n",
       "    </tr>\n",
       "    <tr>\n",
       "      <th id=\"T_4c851_level0_row21\" class=\"row_heading level0 row21\" >21</th>\n",
       "      <td id=\"T_4c851_row21_col0\" class=\"data row21 col0\" >Normalize</td>\n",
       "      <td id=\"T_4c851_row21_col1\" class=\"data row21 col1\" >False</td>\n",
       "    </tr>\n",
       "    <tr>\n",
       "      <th id=\"T_4c851_level0_row22\" class=\"row_heading level0 row22\" >22</th>\n",
       "      <td id=\"T_4c851_row22_col0\" class=\"data row22 col0\" >Normalize Method</td>\n",
       "      <td id=\"T_4c851_row22_col1\" class=\"data row22 col1\" >None</td>\n",
       "    </tr>\n",
       "    <tr>\n",
       "      <th id=\"T_4c851_level0_row23\" class=\"row_heading level0 row23\" >23</th>\n",
       "      <td id=\"T_4c851_row23_col0\" class=\"data row23 col0\" >Transformation</td>\n",
       "      <td id=\"T_4c851_row23_col1\" class=\"data row23 col1\" >False</td>\n",
       "    </tr>\n",
       "    <tr>\n",
       "      <th id=\"T_4c851_level0_row24\" class=\"row_heading level0 row24\" >24</th>\n",
       "      <td id=\"T_4c851_row24_col0\" class=\"data row24 col0\" >Transformation Method</td>\n",
       "      <td id=\"T_4c851_row24_col1\" class=\"data row24 col1\" >None</td>\n",
       "    </tr>\n",
       "    <tr>\n",
       "      <th id=\"T_4c851_level0_row25\" class=\"row_heading level0 row25\" >25</th>\n",
       "      <td id=\"T_4c851_row25_col0\" class=\"data row25 col0\" >PCA</td>\n",
       "      <td id=\"T_4c851_row25_col1\" class=\"data row25 col1\" >False</td>\n",
       "    </tr>\n",
       "    <tr>\n",
       "      <th id=\"T_4c851_level0_row26\" class=\"row_heading level0 row26\" >26</th>\n",
       "      <td id=\"T_4c851_row26_col0\" class=\"data row26 col0\" >PCA Method</td>\n",
       "      <td id=\"T_4c851_row26_col1\" class=\"data row26 col1\" >None</td>\n",
       "    </tr>\n",
       "    <tr>\n",
       "      <th id=\"T_4c851_level0_row27\" class=\"row_heading level0 row27\" >27</th>\n",
       "      <td id=\"T_4c851_row27_col0\" class=\"data row27 col0\" >PCA Components</td>\n",
       "      <td id=\"T_4c851_row27_col1\" class=\"data row27 col1\" >None</td>\n",
       "    </tr>\n",
       "    <tr>\n",
       "      <th id=\"T_4c851_level0_row28\" class=\"row_heading level0 row28\" >28</th>\n",
       "      <td id=\"T_4c851_row28_col0\" class=\"data row28 col0\" >Ignore Low Variance</td>\n",
       "      <td id=\"T_4c851_row28_col1\" class=\"data row28 col1\" >False</td>\n",
       "    </tr>\n",
       "    <tr>\n",
       "      <th id=\"T_4c851_level0_row29\" class=\"row_heading level0 row29\" >29</th>\n",
       "      <td id=\"T_4c851_row29_col0\" class=\"data row29 col0\" >Combine Rare Levels</td>\n",
       "      <td id=\"T_4c851_row29_col1\" class=\"data row29 col1\" >False</td>\n",
       "    </tr>\n",
       "    <tr>\n",
       "      <th id=\"T_4c851_level0_row30\" class=\"row_heading level0 row30\" >30</th>\n",
       "      <td id=\"T_4c851_row30_col0\" class=\"data row30 col0\" >Rare Level Threshold</td>\n",
       "      <td id=\"T_4c851_row30_col1\" class=\"data row30 col1\" >None</td>\n",
       "    </tr>\n",
       "    <tr>\n",
       "      <th id=\"T_4c851_level0_row31\" class=\"row_heading level0 row31\" >31</th>\n",
       "      <td id=\"T_4c851_row31_col0\" class=\"data row31 col0\" >Numeric Binning</td>\n",
       "      <td id=\"T_4c851_row31_col1\" class=\"data row31 col1\" >False</td>\n",
       "    </tr>\n",
       "    <tr>\n",
       "      <th id=\"T_4c851_level0_row32\" class=\"row_heading level0 row32\" >32</th>\n",
       "      <td id=\"T_4c851_row32_col0\" class=\"data row32 col0\" >Remove Outliers</td>\n",
       "      <td id=\"T_4c851_row32_col1\" class=\"data row32 col1\" >False</td>\n",
       "    </tr>\n",
       "    <tr>\n",
       "      <th id=\"T_4c851_level0_row33\" class=\"row_heading level0 row33\" >33</th>\n",
       "      <td id=\"T_4c851_row33_col0\" class=\"data row33 col0\" >Outliers Threshold</td>\n",
       "      <td id=\"T_4c851_row33_col1\" class=\"data row33 col1\" >None</td>\n",
       "    </tr>\n",
       "    <tr>\n",
       "      <th id=\"T_4c851_level0_row34\" class=\"row_heading level0 row34\" >34</th>\n",
       "      <td id=\"T_4c851_row34_col0\" class=\"data row34 col0\" >Remove Multicollinearity</td>\n",
       "      <td id=\"T_4c851_row34_col1\" class=\"data row34 col1\" >False</td>\n",
       "    </tr>\n",
       "    <tr>\n",
       "      <th id=\"T_4c851_level0_row35\" class=\"row_heading level0 row35\" >35</th>\n",
       "      <td id=\"T_4c851_row35_col0\" class=\"data row35 col0\" >Multicollinearity Threshold</td>\n",
       "      <td id=\"T_4c851_row35_col1\" class=\"data row35 col1\" >None</td>\n",
       "    </tr>\n",
       "    <tr>\n",
       "      <th id=\"T_4c851_level0_row36\" class=\"row_heading level0 row36\" >36</th>\n",
       "      <td id=\"T_4c851_row36_col0\" class=\"data row36 col0\" >Remove Perfect Collinearity</td>\n",
       "      <td id=\"T_4c851_row36_col1\" class=\"data row36 col1\" >False</td>\n",
       "    </tr>\n",
       "    <tr>\n",
       "      <th id=\"T_4c851_level0_row37\" class=\"row_heading level0 row37\" >37</th>\n",
       "      <td id=\"T_4c851_row37_col0\" class=\"data row37 col0\" >Clustering</td>\n",
       "      <td id=\"T_4c851_row37_col1\" class=\"data row37 col1\" >False</td>\n",
       "    </tr>\n",
       "    <tr>\n",
       "      <th id=\"T_4c851_level0_row38\" class=\"row_heading level0 row38\" >38</th>\n",
       "      <td id=\"T_4c851_row38_col0\" class=\"data row38 col0\" >Clustering Iteration</td>\n",
       "      <td id=\"T_4c851_row38_col1\" class=\"data row38 col1\" >None</td>\n",
       "    </tr>\n",
       "    <tr>\n",
       "      <th id=\"T_4c851_level0_row39\" class=\"row_heading level0 row39\" >39</th>\n",
       "      <td id=\"T_4c851_row39_col0\" class=\"data row39 col0\" >Polynomial Features</td>\n",
       "      <td id=\"T_4c851_row39_col1\" class=\"data row39 col1\" >False</td>\n",
       "    </tr>\n",
       "    <tr>\n",
       "      <th id=\"T_4c851_level0_row40\" class=\"row_heading level0 row40\" >40</th>\n",
       "      <td id=\"T_4c851_row40_col0\" class=\"data row40 col0\" >Polynomial Degree</td>\n",
       "      <td id=\"T_4c851_row40_col1\" class=\"data row40 col1\" >None</td>\n",
       "    </tr>\n",
       "    <tr>\n",
       "      <th id=\"T_4c851_level0_row41\" class=\"row_heading level0 row41\" >41</th>\n",
       "      <td id=\"T_4c851_row41_col0\" class=\"data row41 col0\" >Trignometry Features</td>\n",
       "      <td id=\"T_4c851_row41_col1\" class=\"data row41 col1\" >False</td>\n",
       "    </tr>\n",
       "    <tr>\n",
       "      <th id=\"T_4c851_level0_row42\" class=\"row_heading level0 row42\" >42</th>\n",
       "      <td id=\"T_4c851_row42_col0\" class=\"data row42 col0\" >Polynomial Threshold</td>\n",
       "      <td id=\"T_4c851_row42_col1\" class=\"data row42 col1\" >None</td>\n",
       "    </tr>\n",
       "    <tr>\n",
       "      <th id=\"T_4c851_level0_row43\" class=\"row_heading level0 row43\" >43</th>\n",
       "      <td id=\"T_4c851_row43_col0\" class=\"data row43 col0\" >Group Features</td>\n",
       "      <td id=\"T_4c851_row43_col1\" class=\"data row43 col1\" >False</td>\n",
       "    </tr>\n",
       "    <tr>\n",
       "      <th id=\"T_4c851_level0_row44\" class=\"row_heading level0 row44\" >44</th>\n",
       "      <td id=\"T_4c851_row44_col0\" class=\"data row44 col0\" >Feature Selection</td>\n",
       "      <td id=\"T_4c851_row44_col1\" class=\"data row44 col1\" >False</td>\n",
       "    </tr>\n",
       "    <tr>\n",
       "      <th id=\"T_4c851_level0_row45\" class=\"row_heading level0 row45\" >45</th>\n",
       "      <td id=\"T_4c851_row45_col0\" class=\"data row45 col0\" >Feature Selection Method</td>\n",
       "      <td id=\"T_4c851_row45_col1\" class=\"data row45 col1\" >classic</td>\n",
       "    </tr>\n",
       "    <tr>\n",
       "      <th id=\"T_4c851_level0_row46\" class=\"row_heading level0 row46\" >46</th>\n",
       "      <td id=\"T_4c851_row46_col0\" class=\"data row46 col0\" >Features Selection Threshold</td>\n",
       "      <td id=\"T_4c851_row46_col1\" class=\"data row46 col1\" >None</td>\n",
       "    </tr>\n",
       "    <tr>\n",
       "      <th id=\"T_4c851_level0_row47\" class=\"row_heading level0 row47\" >47</th>\n",
       "      <td id=\"T_4c851_row47_col0\" class=\"data row47 col0\" >Feature Interaction</td>\n",
       "      <td id=\"T_4c851_row47_col1\" class=\"data row47 col1\" >False</td>\n",
       "    </tr>\n",
       "    <tr>\n",
       "      <th id=\"T_4c851_level0_row48\" class=\"row_heading level0 row48\" >48</th>\n",
       "      <td id=\"T_4c851_row48_col0\" class=\"data row48 col0\" >Feature Ratio</td>\n",
       "      <td id=\"T_4c851_row48_col1\" class=\"data row48 col1\" >False</td>\n",
       "    </tr>\n",
       "    <tr>\n",
       "      <th id=\"T_4c851_level0_row49\" class=\"row_heading level0 row49\" >49</th>\n",
       "      <td id=\"T_4c851_row49_col0\" class=\"data row49 col0\" >Interaction Threshold</td>\n",
       "      <td id=\"T_4c851_row49_col1\" class=\"data row49 col1\" >None</td>\n",
       "    </tr>\n",
       "  </tbody>\n",
       "</table>\n"
      ],
      "text/plain": [
       "<pandas.io.formats.style.Styler at 0x21308e35b20>"
      ]
     },
     "metadata": {},
     "output_type": "display_data"
    },
    {
     "data": {
      "text/html": [
       "<pre style=\"white-space:pre;overflow-x:auto;line-height:normal;font-family:Menlo,'DejaVu Sans Mono',consolas,'Courier New',monospace\">create_model_container: 0\n",
       "</pre>\n"
      ],
      "text/plain": [
       "create_model_container: 0\n"
      ]
     },
     "metadata": {},
     "output_type": "display_data"
    },
    {
     "data": {
      "text/html": [
       "<pre style=\"white-space:pre;overflow-x:auto;line-height:normal;font-family:Menlo,'DejaVu Sans Mono',consolas,'Courier New',monospace\">master_model_container: 0\n",
       "</pre>\n"
      ],
      "text/plain": [
       "master_model_container: 0\n"
      ]
     },
     "metadata": {},
     "output_type": "display_data"
    },
    {
     "data": {
      "text/html": [
       "<pre style=\"white-space:pre;overflow-x:auto;line-height:normal;font-family:Menlo,'DejaVu Sans Mono',consolas,'Courier New',monospace\">display_container: 1\n",
       "</pre>\n"
      ],
      "text/plain": [
       "display_container: 1\n"
      ]
     },
     "metadata": {},
     "output_type": "display_data"
    },
    {
     "data": {
      "text/html": [
       "<pre style=\"white-space:pre;overflow-x:auto;line-height:normal;font-family:Menlo,'DejaVu Sans Mono',consolas,'Courier New',monospace\">Pipeline(memory=None,\n",
       "         steps=[('dtypes',\n",
       "                 DataTypes_Auto_infer(categorical_features=[],\n",
       "                                      display_types=False, features_todrop=[],\n",
       "                                      id_columns=[], ml_usecase='regression',\n",
       "                                      numerical_features=[],\n",
       "                                      target='UNSUPERVISED_DUMMY_TARGET',\n",
       "                                      time_features=[])),\n",
       "                ('imputer',\n",
       "                 Simple_Imputer(categorical_strategy='most frequent',\n",
       "                                fill_value_categorical=None,\n",
       "                                fill_value_numerical=Non...\n",
       "                ('scaling', 'passthrough'), ('P_transform', 'passthrough'),\n",
       "                ('binn', 'passthrough'), ('rem_outliers', 'passthrough'),\n",
       "                ('cluster_all', 'passthrough'),\n",
       "                ('dummy', Dummify(target='UNSUPERVISED_DUMMY_TARGET')),\n",
       "                ('fix_perfect', 'passthrough'),\n",
       "                ('clean_names', Clean_Colum_Names()),\n",
       "                ('feature_select', 'passthrough'), ('fix_multi', 'passthrough'),\n",
       "                ('dfs', 'passthrough'), ('pca', 'passthrough')],\n",
       "         verbose=False)\n",
       "</pre>\n"
      ],
      "text/plain": [
       "Pipeline(memory=None,\n",
       "         steps=[('dtypes',\n",
       "                 DataTypes_Auto_infer(categorical_features=[],\n",
       "                                      display_types=False, features_todrop=[],\n",
       "                                      id_columns=[], ml_usecase='regression',\n",
       "                                      numerical_features=[],\n",
       "                                      target='UNSUPERVISED_DUMMY_TARGET',\n",
       "                                      time_features=[])),\n",
       "                ('imputer',\n",
       "                 Simple_Imputer(categorical_strategy='most frequent',\n",
       "                                fill_value_categorical=None,\n",
       "                                fill_value_numerical=Non...\n",
       "                ('scaling', 'passthrough'), ('P_transform', 'passthrough'),\n",
       "                ('binn', 'passthrough'), ('rem_outliers', 'passthrough'),\n",
       "                ('cluster_all', 'passthrough'),\n",
       "                ('dummy', Dummify(target='UNSUPERVISED_DUMMY_TARGET')),\n",
       "                ('fix_perfect', 'passthrough'),\n",
       "                ('clean_names', Clean_Colum_Names()),\n",
       "                ('feature_select', 'passthrough'), ('fix_multi', 'passthrough'),\n",
       "                ('dfs', 'passthrough'), ('pca', 'passthrough')],\n",
       "         verbose=False)\n"
      ]
     },
     "metadata": {},
     "output_type": "display_data"
    },
    {
     "data": {
      "text/html": [
       "<pre style=\"white-space:pre;overflow-x:auto;line-height:normal;font-family:Menlo,'DejaVu Sans Mono',consolas,'Courier New',monospace\">setup() succesfully completed......................................\n",
       "</pre>\n"
      ],
      "text/plain": [
       "setup() succesfully completed......................................\n"
      ]
     },
     "metadata": {},
     "output_type": "display_data"
    },
    {
     "name": "stdout",
     "output_type": "stream",
     "text": [
      "             A       T         C         G        G+T        G+C        G+A  \\\n",
      "921   0.384615  0.0000  0.384615  0.230769   0.000000  57.142857  42.857143   \n",
      "922   0.428571  0.0000  0.357143  0.214286   0.000000  50.000000  50.000000   \n",
      "923   0.400000  0.0000  0.400000  0.200000   0.000000  55.555556  44.444444   \n",
      "924   0.437500  0.0000  0.375000  0.187500   0.000000  50.000000  50.000000   \n",
      "925   0.411765  0.0000  0.411765  0.176471   0.000000  54.545455  45.454545   \n",
      "...        ...     ...       ...       ...        ...        ...        ...   \n",
      "1178  0.375000  0.1250  0.062500  0.437500  55.555556  44.444444  66.666667   \n",
      "1179  0.375000  0.1250  0.125000  0.375000  44.444444  44.444444  55.555556   \n",
      "1180  0.437500  0.0625  0.062500  0.437500  44.444444  44.444444  77.777778   \n",
      "1181  0.500000  0.1875  0.000000  0.312500  44.444444  11.111111  66.666667   \n",
      "1182  0.437500  0.1250  0.000000  0.437500  55.555556  33.333333  77.777778   \n",
      "\n",
      "             A+C        C+T        A+T  ...  GC+CG  AC+CA  CT+TC  AT+TA  AA  \\\n",
      "921   100.000000  57.142857  42.857143  ...      0      6      0      0   0   \n",
      "922   100.000000  50.000000  50.000000  ...      0      7      0      0   0   \n",
      "923   100.000000  55.555556  44.444444  ...      0      8      0      0   0   \n",
      "924   100.000000  50.000000  50.000000  ...      0      9      0      0   0   \n",
      "925   100.000000  54.545455  45.454545  ...      0     10      0      0   0   \n",
      "...          ...        ...        ...  ...    ...    ...    ...    ...  ..   \n",
      "1178   44.444444  33.333333  55.555556  ...      1      1      0      1   1   \n",
      "1179   55.555556  44.444444  55.555556  ...      2      1      1      1   1   \n",
      "1180   55.555556  22.222222  55.555556  ...      1      1      0      1   1   \n",
      "1181   55.555556  33.333333  88.888889  ...      0      0      0      1   3   \n",
      "1182   44.444444  22.222222  66.666667  ...      0      0      0      2   1   \n",
      "\n",
      "      TT  GG  CC  Conservatism  Average bpp  \n",
      "921    0   0   0             4     0.194456  \n",
      "922    0   0   0             4     0.178981  \n",
      "923    0   0   0             4     0.202843  \n",
      "924    0   0   0             4     0.191475  \n",
      "925    0   0   0             4     0.211452  \n",
      "...   ..  ..  ..           ...          ...  \n",
      "1178   0   1   0             5     0.100812  \n",
      "1179   0   0   0             5     0.799197  \n",
      "1180   0   1   0             5     0.036339  \n",
      "1181   2   0   0             5     0.099998  \n",
      "1182   0   1   0             5     0.025272  \n",
      "\n",
      "[262 rows x 22 columns]\n"
     ]
    }
   ],
   "source": [
    "#split to train and test and setup pycaret\n",
    "df_train=df_final_exec.iloc[:-262]\n",
    "#print(df_train)\n",
    "df_test=df_final_exec.tail(262)\n",
    "#print(df_test)\n",
    "anom = setup(data = df_train, \n",
    "             silent = True)\n",
    "print(df_test)\n"
   ]
  },
  {
   "cell_type": "code",
   "execution_count": 117,
   "id": "f95ecb13",
   "metadata": {},
   "outputs": [
    {
     "data": {
      "text/html": [
       "<pre style=\"white-space:pre;overflow-x:auto;line-height:normal;font-family:Menlo,'DejaVu Sans Mono',consolas,'Courier New',monospace\">gpu_param set to False\n",
       "</pre>\n"
      ],
      "text/plain": [
       "gpu_param set to False\n"
      ]
     },
     "metadata": {},
     "output_type": "display_data"
    },
    {
     "data": {
      "text/html": [
       "<div>\n",
       "<style scoped>\n",
       "    .dataframe tbody tr th:only-of-type {\n",
       "        vertical-align: middle;\n",
       "    }\n",
       "\n",
       "    .dataframe tbody tr th {\n",
       "        vertical-align: top;\n",
       "    }\n",
       "\n",
       "    .dataframe thead th {\n",
       "        text-align: right;\n",
       "    }\n",
       "</style>\n",
       "<table border=\"1\" class=\"dataframe\">\n",
       "  <thead>\n",
       "    <tr style=\"text-align: right;\">\n",
       "      <th></th>\n",
       "      <th>Name</th>\n",
       "      <th>Reference</th>\n",
       "    </tr>\n",
       "    <tr>\n",
       "      <th>ID</th>\n",
       "      <th></th>\n",
       "      <th></th>\n",
       "    </tr>\n",
       "  </thead>\n",
       "  <tbody>\n",
       "    <tr>\n",
       "      <th>abod</th>\n",
       "      <td>Angle-base Outlier Detection</td>\n",
       "      <td>pyod.models.abod.ABOD</td>\n",
       "    </tr>\n",
       "    <tr>\n",
       "      <th>cluster</th>\n",
       "      <td>Clustering-Based Local Outlier</td>\n",
       "      <td>pyod.models.cblof.CBLOF</td>\n",
       "    </tr>\n",
       "    <tr>\n",
       "      <th>cof</th>\n",
       "      <td>Connectivity-Based Local Outlier</td>\n",
       "      <td>pyod.models.cof.COF</td>\n",
       "    </tr>\n",
       "    <tr>\n",
       "      <th>iforest</th>\n",
       "      <td>Isolation Forest</td>\n",
       "      <td>pyod.models.iforest.IForest</td>\n",
       "    </tr>\n",
       "    <tr>\n",
       "      <th>histogram</th>\n",
       "      <td>Histogram-based Outlier Detection</td>\n",
       "      <td>pyod.models.hbos.HBOS</td>\n",
       "    </tr>\n",
       "    <tr>\n",
       "      <th>knn</th>\n",
       "      <td>K-Nearest Neighbors Detector</td>\n",
       "      <td>pyod.models.knn.KNN</td>\n",
       "    </tr>\n",
       "    <tr>\n",
       "      <th>lof</th>\n",
       "      <td>Local Outlier Factor</td>\n",
       "      <td>pyod.models.lof.LOF</td>\n",
       "    </tr>\n",
       "    <tr>\n",
       "      <th>svm</th>\n",
       "      <td>One-class SVM detector</td>\n",
       "      <td>pyod.models.ocsvm.OCSVM</td>\n",
       "    </tr>\n",
       "    <tr>\n",
       "      <th>pca</th>\n",
       "      <td>Principal Component Analysis</td>\n",
       "      <td>pyod.models.pca.PCA</td>\n",
       "    </tr>\n",
       "    <tr>\n",
       "      <th>mcd</th>\n",
       "      <td>Minimum Covariance Determinant</td>\n",
       "      <td>pyod.models.mcd.MCD</td>\n",
       "    </tr>\n",
       "    <tr>\n",
       "      <th>sod</th>\n",
       "      <td>Subspace Outlier Detection</td>\n",
       "      <td>pyod.models.sod.SOD</td>\n",
       "    </tr>\n",
       "    <tr>\n",
       "      <th>sos</th>\n",
       "      <td>Stochastic Outlier Selection</td>\n",
       "      <td>pyod.models.sos.SOS</td>\n",
       "    </tr>\n",
       "  </tbody>\n",
       "</table>\n",
       "</div>"
      ],
      "text/plain": [
       "                                        Name                    Reference\n",
       "ID                                                                       \n",
       "abod            Angle-base Outlier Detection        pyod.models.abod.ABOD\n",
       "cluster       Clustering-Based Local Outlier      pyod.models.cblof.CBLOF\n",
       "cof         Connectivity-Based Local Outlier          pyod.models.cof.COF\n",
       "iforest                     Isolation Forest  pyod.models.iforest.IForest\n",
       "histogram  Histogram-based Outlier Detection        pyod.models.hbos.HBOS\n",
       "knn             K-Nearest Neighbors Detector          pyod.models.knn.KNN\n",
       "lof                     Local Outlier Factor          pyod.models.lof.LOF\n",
       "svm                   One-class SVM detector      pyod.models.ocsvm.OCSVM\n",
       "pca             Principal Component Analysis          pyod.models.pca.PCA\n",
       "mcd           Minimum Covariance Determinant          pyod.models.mcd.MCD\n",
       "sod               Subspace Outlier Detection          pyod.models.sod.SOD\n",
       "sos             Stochastic Outlier Selection          pyod.models.sos.SOS"
      ]
     },
     "execution_count": 117,
     "metadata": {},
     "output_type": "execute_result"
    }
   ],
   "source": [
    "models() #view pycaret models"
   ]
  },
  {
   "cell_type": "code",
   "execution_count": 118,
   "id": "4a2cede8",
   "metadata": {},
   "outputs": [
    {
     "data": {
      "text/html": [
       "<pre style=\"white-space:pre;overflow-x:auto;line-height:normal;font-family:Menlo,'DejaVu Sans Mono',consolas,'Courier New',monospace\">create_model_container: 4\n",
       "</pre>\n"
      ],
      "text/plain": [
       "create_model_container: 4\n"
      ]
     },
     "metadata": {},
     "output_type": "display_data"
    },
    {
     "data": {
      "text/html": [
       "<pre style=\"white-space:pre;overflow-x:auto;line-height:normal;font-family:Menlo,'DejaVu Sans Mono',consolas,'Courier New',monospace\">master_model_container: 4\n",
       "</pre>\n"
      ],
      "text/plain": [
       "master_model_container: 4\n"
      ]
     },
     "metadata": {},
     "output_type": "display_data"
    },
    {
     "data": {
      "text/html": [
       "<pre style=\"white-space:pre;overflow-x:auto;line-height:normal;font-family:Menlo,'DejaVu Sans Mono',consolas,'Courier New',monospace\">display_container: 5\n",
       "</pre>\n"
      ],
      "text/plain": [
       "display_container: 5\n"
      ]
     },
     "metadata": {},
     "output_type": "display_data"
    },
    {
     "data": {
      "text/html": [
       "<pre style=\"white-space:pre;overflow-x:auto;line-height:normal;font-family:Menlo,'DejaVu Sans Mono',consolas,'Courier New',monospace\">KNN(algorithm='auto', contamination=0.125, leaf_size=30, method='largest',\n",
       "  metric='minkowski', metric_params=None, n_jobs=-1, n_neighbors=5, p=2,\n",
       "  radius=1.0)\n",
       "</pre>\n"
      ],
      "text/plain": [
       "KNN(algorithm='auto', contamination=0.125, leaf_size=30, method='largest',\n",
       "  metric='minkowski', metric_params=None, n_jobs=-1, n_neighbors=5, p=2,\n",
       "  radius=1.0)\n"
      ]
     },
     "metadata": {},
     "output_type": "display_data"
    },
    {
     "data": {
      "text/html": [
       "<pre style=\"white-space:pre;overflow-x:auto;line-height:normal;font-family:Menlo,'DejaVu Sans Mono',consolas,'Courier New',monospace\">create_model() succesfully completed......................................\n",
       "</pre>\n"
      ],
      "text/plain": [
       "create_model() succesfully completed......................................\n"
      ]
     },
     "metadata": {},
     "output_type": "display_data"
    }
   ],
   "source": [
    "iforest_model = create_model(model = 'iforest', fraction = 1/8) #create 4 unsup_models\n",
    "pca_model = create_model(model = 'pca', fraction = 1/8)\n",
    "svm_model=create_model(model='svm',fraction=1/8)\n",
    "knn_model=create_model(model='knn',fraction=1/8)"
   ]
  },
  {
   "cell_type": "code",
   "execution_count": 119,
   "id": "46faea9c",
   "metadata": {},
   "outputs": [
    {
     "data": {
      "text/html": [
       "<pre style=\"white-space:pre;overflow-x:auto;line-height:normal;font-family:Menlo,'DejaVu Sans Mono',consolas,'Courier New',monospace\">Initializing assign_model()\n",
       "</pre>\n"
      ],
      "text/plain": [
       "Initializing assign_model()\n"
      ]
     },
     "metadata": {},
     "output_type": "display_data"
    },
    {
     "data": {
      "text/html": [
       "<pre style=\"white-space:pre;overflow-x:auto;line-height:normal;font-family:Menlo,'DejaVu Sans Mono',consolas,'Courier New',monospace\">assign_model(model=IForest(behaviour='new', bootstrap=False, contamination=0.125,\n",
       "    max_features=1.0, max_samples='auto', n_estimators=100, n_jobs=-1,\n",
       "    random_state=7211, verbose=0), transformation=False, score=True, verbose=True)\n",
       "</pre>\n"
      ],
      "text/plain": [
       "assign_model(model=IForest(behaviour='new', bootstrap=False, contamination=0.125,\n",
       "    max_features=1.0, max_samples='auto', n_estimators=100, n_jobs=-1,\n",
       "    random_state=7211, verbose=0), transformation=False, score=True, verbose=True)\n"
      ]
     },
     "metadata": {},
     "output_type": "display_data"
    },
    {
     "data": {
      "text/html": [
       "<pre style=\"white-space:pre;overflow-x:auto;line-height:normal;font-family:Menlo,'DejaVu Sans Mono',consolas,'Courier New',monospace\">Checking exceptions\n",
       "</pre>\n"
      ],
      "text/plain": [
       "Checking exceptions\n"
      ]
     },
     "metadata": {},
     "output_type": "display_data"
    },
    {
     "data": {
      "text/html": [
       "<pre style=\"white-space:pre;overflow-x:auto;line-height:normal;font-family:Menlo,'DejaVu Sans Mono',consolas,'Courier New',monospace\">Determining Trained Model\n",
       "</pre>\n"
      ],
      "text/plain": [
       "Determining Trained Model\n"
      ]
     },
     "metadata": {},
     "output_type": "display_data"
    },
    {
     "data": {
      "text/html": [
       "<pre style=\"white-space:pre;overflow-x:auto;line-height:normal;font-family:Menlo,'DejaVu Sans Mono',consolas,'Courier New',monospace\">Trained Model : Isolation Forest\n",
       "</pre>\n"
      ],
      "text/plain": [
       "Trained Model : Isolation Forest\n"
      ]
     },
     "metadata": {},
     "output_type": "display_data"
    },
    {
     "data": {
      "text/html": [
       "<pre style=\"white-space:pre;overflow-x:auto;line-height:normal;font-family:Menlo,'DejaVu Sans Mono',consolas,'Courier New',monospace\">Copying data\n",
       "</pre>\n"
      ],
      "text/plain": [
       "Copying data\n"
      ]
     },
     "metadata": {},
     "output_type": "display_data"
    },
    {
     "data": {
      "text/html": [
       "<pre style=\"white-space:pre;overflow-x:auto;line-height:normal;font-family:Menlo,'DejaVu Sans Mono',consolas,'Courier New',monospace\">(921, 24)\n",
       "</pre>\n"
      ],
      "text/plain": [
       "(921, 24)\n"
      ]
     },
     "metadata": {},
     "output_type": "display_data"
    },
    {
     "data": {
      "text/html": [
       "<pre style=\"white-space:pre;overflow-x:auto;line-height:normal;font-family:Menlo,'DejaVu Sans Mono',consolas,'Courier New',monospace\">assign_model() succesfully completed......................................\n",
       "</pre>\n"
      ],
      "text/plain": [
       "assign_model() succesfully completed......................................\n"
      ]
     },
     "metadata": {},
     "output_type": "display_data"
    },
    {
     "data": {
      "text/html": [
       "<pre style=\"white-space:pre;overflow-x:auto;line-height:normal;font-family:Menlo,'DejaVu Sans Mono',consolas,'Courier New',monospace\">Initializing assign_model()\n",
       "</pre>\n"
      ],
      "text/plain": [
       "Initializing assign_model()\n"
      ]
     },
     "metadata": {},
     "output_type": "display_data"
    },
    {
     "data": {
      "text/html": [
       "<pre style=\"white-space:pre;overflow-x:auto;line-height:normal;font-family:Menlo,'DejaVu Sans Mono',consolas,'Courier New',monospace\">assign_model(model=OCSVM(cache_size=200, coef0=0.0, contamination=0.125, degree=3, gamma='auto',\n",
       "   kernel='rbf', max_iter=-1, nu=0.5, shrinking=True, tol=0.001,\n",
       "   verbose=False), transformation=False, score=True, verbose=True)\n",
       "</pre>\n"
      ],
      "text/plain": [
       "assign_model(model=OCSVM(cache_size=200, coef0=0.0, contamination=0.125, degree=3, gamma='auto',\n",
       "   kernel='rbf', max_iter=-1, nu=0.5, shrinking=True, tol=0.001,\n",
       "   verbose=False), transformation=False, score=True, verbose=True)\n"
      ]
     },
     "metadata": {},
     "output_type": "display_data"
    },
    {
     "data": {
      "text/html": [
       "<pre style=\"white-space:pre;overflow-x:auto;line-height:normal;font-family:Menlo,'DejaVu Sans Mono',consolas,'Courier New',monospace\">Checking exceptions\n",
       "</pre>\n"
      ],
      "text/plain": [
       "Checking exceptions\n"
      ]
     },
     "metadata": {},
     "output_type": "display_data"
    },
    {
     "data": {
      "text/html": [
       "<pre style=\"white-space:pre;overflow-x:auto;line-height:normal;font-family:Menlo,'DejaVu Sans Mono',consolas,'Courier New',monospace\">Determining Trained Model\n",
       "</pre>\n"
      ],
      "text/plain": [
       "Determining Trained Model\n"
      ]
     },
     "metadata": {},
     "output_type": "display_data"
    },
    {
     "data": {
      "text/html": [
       "<pre style=\"white-space:pre;overflow-x:auto;line-height:normal;font-family:Menlo,'DejaVu Sans Mono',consolas,'Courier New',monospace\">Trained Model : One-class SVM detector\n",
       "</pre>\n"
      ],
      "text/plain": [
       "Trained Model : One-class SVM detector\n"
      ]
     },
     "metadata": {},
     "output_type": "display_data"
    },
    {
     "data": {
      "text/html": [
       "<pre style=\"white-space:pre;overflow-x:auto;line-height:normal;font-family:Menlo,'DejaVu Sans Mono',consolas,'Courier New',monospace\">Copying data\n",
       "</pre>\n"
      ],
      "text/plain": [
       "Copying data\n"
      ]
     },
     "metadata": {},
     "output_type": "display_data"
    },
    {
     "data": {
      "text/html": [
       "<pre style=\"white-space:pre;overflow-x:auto;line-height:normal;font-family:Menlo,'DejaVu Sans Mono',consolas,'Courier New',monospace\">(921, 24)\n",
       "</pre>\n"
      ],
      "text/plain": [
       "(921, 24)\n"
      ]
     },
     "metadata": {},
     "output_type": "display_data"
    },
    {
     "data": {
      "text/html": [
       "<pre style=\"white-space:pre;overflow-x:auto;line-height:normal;font-family:Menlo,'DejaVu Sans Mono',consolas,'Courier New',monospace\">assign_model() succesfully completed......................................\n",
       "</pre>\n"
      ],
      "text/plain": [
       "assign_model() succesfully completed......................................\n"
      ]
     },
     "metadata": {},
     "output_type": "display_data"
    },
    {
     "data": {
      "text/html": [
       "<pre style=\"white-space:pre;overflow-x:auto;line-height:normal;font-family:Menlo,'DejaVu Sans Mono',consolas,'Courier New',monospace\">Initializing assign_model()\n",
       "</pre>\n"
      ],
      "text/plain": [
       "Initializing assign_model()\n"
      ]
     },
     "metadata": {},
     "output_type": "display_data"
    },
    {
     "data": {
      "text/html": [
       "<pre style=\"white-space:pre;overflow-x:auto;line-height:normal;font-family:Menlo,'DejaVu Sans Mono',consolas,'Courier New',monospace\">assign_model(model=PCA(contamination=0.125, copy=True, iterated_power='auto', n_components=None,\n",
       "  n_selected_components=None, random_state=7211, standardization=True,\n",
       "  svd_solver='auto', tol=0.0, weighted=True, whiten=False), transformation=False, score=True, verbose=True)\n",
       "</pre>\n"
      ],
      "text/plain": [
       "assign_model(model=PCA(contamination=0.125, copy=True, iterated_power='auto', n_components=None,\n",
       "  n_selected_components=None, random_state=7211, standardization=True,\n",
       "  svd_solver='auto', tol=0.0, weighted=True, whiten=False), transformation=False, score=True, verbose=True)\n"
      ]
     },
     "metadata": {},
     "output_type": "display_data"
    },
    {
     "data": {
      "text/html": [
       "<pre style=\"white-space:pre;overflow-x:auto;line-height:normal;font-family:Menlo,'DejaVu Sans Mono',consolas,'Courier New',monospace\">Checking exceptions\n",
       "</pre>\n"
      ],
      "text/plain": [
       "Checking exceptions\n"
      ]
     },
     "metadata": {},
     "output_type": "display_data"
    },
    {
     "data": {
      "text/html": [
       "<pre style=\"white-space:pre;overflow-x:auto;line-height:normal;font-family:Menlo,'DejaVu Sans Mono',consolas,'Courier New',monospace\">Determining Trained Model\n",
       "</pre>\n"
      ],
      "text/plain": [
       "Determining Trained Model\n"
      ]
     },
     "metadata": {},
     "output_type": "display_data"
    },
    {
     "data": {
      "text/html": [
       "<pre style=\"white-space:pre;overflow-x:auto;line-height:normal;font-family:Menlo,'DejaVu Sans Mono',consolas,'Courier New',monospace\">Trained Model : Principal Component Analysis\n",
       "</pre>\n"
      ],
      "text/plain": [
       "Trained Model : Principal Component Analysis\n"
      ]
     },
     "metadata": {},
     "output_type": "display_data"
    },
    {
     "data": {
      "text/html": [
       "<pre style=\"white-space:pre;overflow-x:auto;line-height:normal;font-family:Menlo,'DejaVu Sans Mono',consolas,'Courier New',monospace\">Copying data\n",
       "</pre>\n"
      ],
      "text/plain": [
       "Copying data\n"
      ]
     },
     "metadata": {},
     "output_type": "display_data"
    },
    {
     "data": {
      "text/html": [
       "<pre style=\"white-space:pre;overflow-x:auto;line-height:normal;font-family:Menlo,'DejaVu Sans Mono',consolas,'Courier New',monospace\">(921, 24)\n",
       "</pre>\n"
      ],
      "text/plain": [
       "(921, 24)\n"
      ]
     },
     "metadata": {},
     "output_type": "display_data"
    },
    {
     "data": {
      "text/html": [
       "<pre style=\"white-space:pre;overflow-x:auto;line-height:normal;font-family:Menlo,'DejaVu Sans Mono',consolas,'Courier New',monospace\">assign_model() succesfully completed......................................\n",
       "</pre>\n"
      ],
      "text/plain": [
       "assign_model() succesfully completed......................................\n"
      ]
     },
     "metadata": {},
     "output_type": "display_data"
    },
    {
     "data": {
      "text/html": [
       "<pre style=\"white-space:pre;overflow-x:auto;line-height:normal;font-family:Menlo,'DejaVu Sans Mono',consolas,'Courier New',monospace\">Initializing assign_model()\n",
       "</pre>\n"
      ],
      "text/plain": [
       "Initializing assign_model()\n"
      ]
     },
     "metadata": {},
     "output_type": "display_data"
    },
    {
     "data": {
      "text/html": [
       "<pre style=\"white-space:pre;overflow-x:auto;line-height:normal;font-family:Menlo,'DejaVu Sans Mono',consolas,'Courier New',monospace\">assign_model(model=KNN(algorithm='auto', contamination=0.125, leaf_size=30, method='largest',\n",
       "  metric='minkowski', metric_params=None, n_jobs=-1, n_neighbors=5, p=2,\n",
       "  radius=1.0), transformation=False, score=True, verbose=True)\n",
       "</pre>\n"
      ],
      "text/plain": [
       "assign_model(model=KNN(algorithm='auto', contamination=0.125, leaf_size=30, method='largest',\n",
       "  metric='minkowski', metric_params=None, n_jobs=-1, n_neighbors=5, p=2,\n",
       "  radius=1.0), transformation=False, score=True, verbose=True)\n"
      ]
     },
     "metadata": {},
     "output_type": "display_data"
    },
    {
     "data": {
      "text/html": [
       "<pre style=\"white-space:pre;overflow-x:auto;line-height:normal;font-family:Menlo,'DejaVu Sans Mono',consolas,'Courier New',monospace\">Checking exceptions\n",
       "</pre>\n"
      ],
      "text/plain": [
       "Checking exceptions\n"
      ]
     },
     "metadata": {},
     "output_type": "display_data"
    },
    {
     "data": {
      "text/html": [
       "<pre style=\"white-space:pre;overflow-x:auto;line-height:normal;font-family:Menlo,'DejaVu Sans Mono',consolas,'Courier New',monospace\">Determining Trained Model\n",
       "</pre>\n"
      ],
      "text/plain": [
       "Determining Trained Model\n"
      ]
     },
     "metadata": {},
     "output_type": "display_data"
    },
    {
     "data": {
      "text/html": [
       "<pre style=\"white-space:pre;overflow-x:auto;line-height:normal;font-family:Menlo,'DejaVu Sans Mono',consolas,'Courier New',monospace\">Trained Model : K-Nearest Neighbors Detector\n",
       "</pre>\n"
      ],
      "text/plain": [
       "Trained Model : K-Nearest Neighbors Detector\n"
      ]
     },
     "metadata": {},
     "output_type": "display_data"
    },
    {
     "data": {
      "text/html": [
       "<pre style=\"white-space:pre;overflow-x:auto;line-height:normal;font-family:Menlo,'DejaVu Sans Mono',consolas,'Courier New',monospace\">Copying data\n",
       "</pre>\n"
      ],
      "text/plain": [
       "Copying data\n"
      ]
     },
     "metadata": {},
     "output_type": "display_data"
    },
    {
     "data": {
      "text/html": [
       "<pre style=\"white-space:pre;overflow-x:auto;line-height:normal;font-family:Menlo,'DejaVu Sans Mono',consolas,'Courier New',monospace\">(921, 24)\n",
       "</pre>\n"
      ],
      "text/plain": [
       "(921, 24)\n"
      ]
     },
     "metadata": {},
     "output_type": "display_data"
    },
    {
     "data": {
      "text/html": [
       "<pre style=\"white-space:pre;overflow-x:auto;line-height:normal;font-family:Menlo,'DejaVu Sans Mono',consolas,'Courier New',monospace\">assign_model() succesfully completed......................................\n",
       "</pre>\n"
      ],
      "text/plain": [
       "assign_model() succesfully completed......................................\n"
      ]
     },
     "metadata": {},
     "output_type": "display_data"
    }
   ],
   "source": [
    "iforest_results = assign_model(iforest_model) #assign_models\n",
    "svm_results = assign_model(svm_model)\n",
    "pca_results = assign_model(pca_model)\n",
    "knn_results = assign_model(knn_model)\n"
   ]
  },
  {
   "cell_type": "code",
   "execution_count": 120,
   "id": "fbf30961",
   "metadata": {},
   "outputs": [
    {
     "name": "stdout",
     "output_type": "stream",
     "text": [
      "          A       T       C       G        G+T        G+C         G+A  \\\n",
      "0    0.5625  0.0000  0.0625  0.3750  50.000000  50.000000  100.000000   \n",
      "1    0.3750  0.1875  0.1250  0.3125  83.333333  50.000000   33.333333   \n",
      "2    0.5000  0.0625  0.1250  0.3125  33.333333  50.000000   50.000000   \n",
      "3    0.3125  0.2500  0.1250  0.3125  83.333333  33.333333   16.666667   \n",
      "4    0.3750  0.0000  0.2500  0.3750  33.333333  83.333333   50.000000   \n",
      "..      ...     ...     ...     ...        ...        ...         ...   \n",
      "916  0.3750  0.0000  0.0000  0.6250  50.000000  50.000000  100.000000   \n",
      "917  0.1875  0.1250  0.0625  0.6250  83.333333  66.666667   50.000000   \n",
      "918  0.2500  0.2500  0.0000  0.5000  83.333333  16.666667   33.333333   \n",
      "919  0.1875  0.1250  0.0625  0.6250  83.333333  66.666667   50.000000   \n",
      "920  0.1875  0.1875  0.0625  0.5625  83.333333  50.000000   33.333333   \n",
      "\n",
      "           A+C        C+T        A+T  ...  CT+TC  AT+TA  AA  TT  GG  CC  \\\n",
      "0    50.000000   0.000000  50.000000  ...      0      0   2   0   1   0   \n",
      "1    16.666667  66.666667  50.000000  ...      1      0   0   1   1   0   \n",
      "2    66.666667  50.000000  50.000000  ...      1      1   0   0   0   1   \n",
      "3    16.666667  83.333333  66.666667  ...      1      0   0   2   0   0   \n",
      "4    66.666667  50.000000  16.666667  ...      0      0   0   0   1   1   \n",
      "..         ...        ...        ...  ...    ...    ...  ..  ..  ..  ..   \n",
      "916  50.000000   0.000000  50.000000  ...      0      0   2   0   1   0   \n",
      "917  16.666667  50.000000  33.333333  ...      1      0   0   0   0   0   \n",
      "918  16.666667  66.666667  83.333333  ...      0      2   0   2   0   0   \n",
      "919  16.666667  50.000000  33.333333  ...      1      0   0   0   1   0   \n",
      "920  16.666667  66.666667  50.000000  ...      2      0   0   1   1   0   \n",
      "\n",
      "     Conservatism  Average bpp  Anomaly  Anomaly_Score  \n",
      "0               5     0.031920        1   4.128513e+00  \n",
      "1               5     0.679678        0  -3.822766e-02  \n",
      "2               6     1.493043        0   1.563920e-01  \n",
      "3               5     3.261273        0   6.138783e-01  \n",
      "4               5     0.866689        1   8.079761e+00  \n",
      "..            ...          ...      ...            ...  \n",
      "916             5     0.004588        1   4.123874e+00  \n",
      "917             5     0.701677        0  -1.854833e-01  \n",
      "918             5     0.114693        0   8.347585e-08  \n",
      "919             5     0.592587        0  -1.443069e-01  \n",
      "920             5     1.541040        0  -8.046859e-02  \n",
      "\n",
      "[921 rows x 24 columns]\n"
     ]
    }
   ],
   "source": [
    "print(svm_results) #view results"
   ]
  },
  {
   "cell_type": "code",
   "execution_count": 121,
   "id": "4a48b202",
   "metadata": {},
   "outputs": [
    {
     "name": "stdout",
     "output_type": "stream",
     "text": [
      "          A       T       C       G        G+T        G+C         G+A  \\\n",
      "0    0.5625  0.0000  0.0625  0.3750  50.000000  50.000000  100.000000   \n",
      "1    0.3750  0.1875  0.1250  0.3125  83.333333  50.000000   33.333333   \n",
      "2    0.5000  0.0625  0.1250  0.3125  33.333333  50.000000   50.000000   \n",
      "3    0.3125  0.2500  0.1250  0.3125  83.333333  33.333333   16.666667   \n",
      "4    0.3750  0.0000  0.2500  0.3750  33.333333  83.333333   50.000000   \n",
      "..      ...     ...     ...     ...        ...        ...         ...   \n",
      "916  0.3750  0.0000  0.0000  0.6250  50.000000  50.000000  100.000000   \n",
      "917  0.1875  0.1250  0.0625  0.6250  83.333333  66.666667   50.000000   \n",
      "918  0.2500  0.2500  0.0000  0.5000  83.333333  16.666667   33.333333   \n",
      "919  0.1875  0.1250  0.0625  0.6250  83.333333  66.666667   50.000000   \n",
      "920  0.1875  0.1875  0.0625  0.5625  83.333333  50.000000   33.333333   \n",
      "\n",
      "           A+C        C+T        A+T  ...  CT+TC  AT+TA  AA  TT  GG  CC  \\\n",
      "0    50.000000   0.000000  50.000000  ...      0      0   2   0   1   0   \n",
      "1    16.666667  66.666667  50.000000  ...      1      0   0   1   1   0   \n",
      "2    66.666667  50.000000  50.000000  ...      1      1   0   0   0   1   \n",
      "3    16.666667  83.333333  66.666667  ...      1      0   0   2   0   0   \n",
      "4    66.666667  50.000000  16.666667  ...      0      0   0   0   1   1   \n",
      "..         ...        ...        ...  ...    ...    ...  ..  ..  ..  ..   \n",
      "916  50.000000   0.000000  50.000000  ...      0      0   2   0   1   0   \n",
      "917  16.666667  50.000000  33.333333  ...      1      0   0   0   0   0   \n",
      "918  16.666667  66.666667  83.333333  ...      0      2   0   2   0   0   \n",
      "919  16.666667  50.000000  33.333333  ...      1      0   0   0   1   0   \n",
      "920  16.666667  66.666667  50.000000  ...      2      0   0   1   1   0   \n",
      "\n",
      "     Conservatism  Average bpp  Anomaly  Anomaly_Score  \n",
      "0               5     0.031920        0       2.474886  \n",
      "1               5     0.679678        0       2.019223  \n",
      "2               6     1.493043        1       3.188442  \n",
      "3               5     3.261273        0       2.254913  \n",
      "4               5     0.866689        1      33.401754  \n",
      "..            ...          ...      ...            ...  \n",
      "916             5     0.004588        0       2.451337  \n",
      "917             5     0.701677        0       2.041942  \n",
      "918             5     0.114693        0       2.001999  \n",
      "919             5     0.592587        0       1.424755  \n",
      "920             5     1.541040        0       2.200797  \n",
      "\n",
      "[921 rows x 24 columns]\n"
     ]
    }
   ],
   "source": [
    "print(knn_results)"
   ]
  },
  {
   "cell_type": "code",
   "execution_count": 122,
   "id": "3aa25b46",
   "metadata": {},
   "outputs": [
    {
     "name": "stdout",
     "output_type": "stream",
     "text": [
      "          A       T       C       G        G+T         G+C         G+A  \\\n",
      "2    0.3750  0.0000  0.2500  0.3750  33.333333   83.333333   50.000000   \n",
      "9    0.5000  0.0625  0.0625  0.3750  33.333333   16.666667   83.333333   \n",
      "28   0.5000  0.0000  0.0000  0.5000  33.333333   33.333333  100.000000   \n",
      "49   0.1250  0.0625  0.2500  0.5625  50.000000   83.333333   33.333333   \n",
      "53   0.1250  0.0625  0.2500  0.5625  50.000000   83.333333   33.333333   \n",
      "66   0.1250  0.1875  0.1875  0.5000  66.666667   50.000000   16.666667   \n",
      "93   0.3125  0.1250  0.1875  0.3750  50.000000   66.666667   16.666667   \n",
      "141  0.3750  0.0000  0.1250  0.5000  33.333333   66.666667   66.666667   \n",
      "161  0.5000  0.1875  0.0000  0.3125  50.000000    0.000000   50.000000   \n",
      "171  0.5000  0.0625  0.1250  0.3125  16.666667   16.666667   66.666667   \n",
      "198  0.3125  0.0000  0.1875  0.5000  33.333333   83.333333   50.000000   \n",
      "203  0.2500  0.0625  0.2500  0.4375  33.333333   83.333333   16.666667   \n",
      "204  0.2500  0.0000  0.0625  0.6875  83.333333  100.000000   83.333333   \n",
      "210  0.5000  0.0000  0.0625  0.4375  16.666667   33.333333   83.333333   \n",
      "212  0.2500  0.1250  0.1875  0.4375  50.000000   66.666667   16.666667   \n",
      "232  0.2500  0.2500  0.1250  0.3750  66.666667   33.333333    0.000000   \n",
      "315  0.1250  0.1250  0.2500  0.5000  50.000000   66.666667   16.666667   \n",
      "327  0.1250  0.1875  0.1875  0.5000  66.666667   50.000000   16.666667   \n",
      "359  0.7500  0.0000  0.0000  0.2500  16.666667   16.666667  100.000000   \n",
      "392  0.3750  0.0000  0.1250  0.5000  50.000000   83.333333   66.666667   \n",
      "407  0.1875  0.1250  0.2500  0.4375  50.000000   66.666667   16.666667   \n",
      "410  0.5625  0.0625  0.0000  0.3750  33.333333   16.666667   83.333333   \n",
      "508  0.1875  0.0625  0.3125  0.4375  16.666667   66.666667   16.666667   \n",
      "566  0.3125  0.0625  0.2500  0.3750  50.000000   83.333333   33.333333   \n",
      "607  0.3750  0.0625  0.2500  0.3125  16.666667   66.666667   16.666667   \n",
      "612  0.2500  0.0625  0.3125  0.3750  33.333333   83.333333   16.666667   \n",
      "639  0.3125  0.1250  0.1875  0.3750  33.333333   50.000000   16.666667   \n",
      "668  0.1875  0.0000  0.1875  0.6250  66.666667  100.000000   66.666667   \n",
      "669  0.1875  0.0625  0.2500  0.5000  50.000000   83.333333   33.333333   \n",
      "684  0.1875  0.1875  0.1875  0.4375  66.666667   50.000000   16.666667   \n",
      "689  0.1875  0.2500  0.1875  0.3750  66.666667   33.333333    0.000000   \n",
      "\n",
      "           A+C         C+T         A+T  ...  AC+CA  CT+TC  AT+TA  AA  TT  GG  \\\n",
      "2    66.666667   50.000000   16.666667  ...      2      0      0   0   0   1   \n",
      "9    66.666667   16.666667   83.333333  ...      0      0      2   2   0   0   \n",
      "28   66.666667    0.000000   66.666667  ...      0      0      0   2   0   1   \n",
      "49   50.000000   66.666667   16.666667  ...      0      2      0   0   0   0   \n",
      "53   50.000000   66.666667   16.666667  ...      0      1      0   0   0   0   \n",
      "66   33.333333   83.333333   50.000000  ...      0      0      0   0   2   0   \n",
      "93   50.000000   83.333333   33.333333  ...      0      1      0   0   1   0   \n",
      "141  66.666667   33.333333   33.333333  ...      1      0      0   1   0   1   \n",
      "161  50.000000   50.000000  100.000000  ...      0      0      3   1   1   0   \n",
      "171  83.333333   33.333333   83.333333  ...      0      1      1   3   0   0   \n",
      "198  66.666667   50.000000   16.666667  ...      1      0      0   0   0   1   \n",
      "203  66.666667   83.333333   16.666667  ...      0      1      0   0   0   0   \n",
      "204  16.666667   16.666667    0.000000  ...      0      0      0   0   0   4   \n",
      "210  83.333333   16.666667   66.666667  ...      1      0      0   3   0   0   \n",
      "212  50.000000   83.333333   33.333333  ...      0      2      0   0   1   0   \n",
      "232  33.333333  100.000000   66.666667  ...      0      3      0   0   2   0   \n",
      "315  50.000000   83.333333   33.333333  ...      0      3      0   0   0   0   \n",
      "327  33.333333   83.333333   50.000000  ...      0      2      0   0   0   0   \n",
      "359  83.333333    0.000000   83.333333  ...      0      0      0   4   0   0   \n",
      "392  50.000000   33.333333   16.666667  ...      0      0      0   0   0   0   \n",
      "407  50.000000   83.333333   33.333333  ...      0      2      0   0   0   0   \n",
      "410  66.666667   16.666667   83.333333  ...      0      0      2   2   0   0   \n",
      "508  83.333333   83.333333   33.333333  ...      1      2      0   0   0   0   \n",
      "566  50.000000   66.666667   16.666667  ...      0      1      0   0   0   1   \n",
      "607  83.333333   83.333333   33.333333  ...      2      2      0   0   0   0   \n",
      "612  66.666667   83.333333   16.666667  ...      0      2      0   0   0   0   \n",
      "639  66.666667   83.333333   50.000000  ...      2      3      0   0   0   0   \n",
      "668  33.333333   33.333333    0.000000  ...      0      0      0   0   0   2   \n",
      "669  50.000000   66.666667   16.666667  ...      0      1      0   0   0   0   \n",
      "684  33.333333   83.333333   50.000000  ...      0      2      0   0   0   0   \n",
      "689  33.333333  100.000000   66.666667  ...      0      1      0   0   3   0   \n",
      "\n",
      "     CC  Conservatism  Average bpp  Anomaly  \n",
      "2     1             5     0.866689        1  \n",
      "9     0             6     0.031766        1  \n",
      "28    0             6     0.005399        1  \n",
      "49    1             6     5.223504        1  \n",
      "53    2             6     4.549353        1  \n",
      "66    1             7     6.071926        1  \n",
      "93    1             8     1.514075        1  \n",
      "141   1             7     1.830494        1  \n",
      "161   0             6     0.037295        1  \n",
      "171   0             5     0.527668        1  \n",
      "198   2             6     3.682051        1  \n",
      "203   2             6     3.283683        1  \n",
      "204   0             6     0.141542        1  \n",
      "210   0             6     0.045761        1  \n",
      "212   1             6     6.649291        1  \n",
      "232   0             6     4.617769        1  \n",
      "315   1             5     5.707286        1  \n",
      "327   1             5     6.707123        1  \n",
      "359   0             6     0.004027        1  \n",
      "392   0             6     0.105237        1  \n",
      "407   1             5     1.705503        1  \n",
      "410   0             6     0.007916        1  \n",
      "508   2             5     5.658008        1  \n",
      "566   1             5     3.657284        1  \n",
      "607   1             6     2.125612        1  \n",
      "612   2             5     2.146952        1  \n",
      "639   0             6     2.526241        1  \n",
      "668   1             5     4.425071        1  \n",
      "669   1             5     5.749147        1  \n",
      "684   1             5     7.587795        1  \n",
      "689   1             5     2.615533        1  \n",
      "\n",
      "[31 rows x 23 columns]\n"
     ]
    }
   ],
   "source": [
    "iforest_merge=iforest_results.loc[:, ~iforest_results.columns.str.contains('Anomaly_Score')] #find common anomalies for all models\n",
    "svm_merge=svm_results.loc[:, ~svm_results.columns.str.contains('Anomaly_Score')]\n",
    "knn_merge=knn_results.loc[:, ~knn_results.columns.str.contains('Anomaly_Score')]\n",
    "pca_merge=pca_results.loc[:, ~pca_results.columns.str.contains('Anomaly_Score')]\n",
    "\n",
    "intersect_1 = pd.merge(iforest_merge,svm_merge, how='inner')\n",
    "intersect_2 = pd.merge(intersect_1, knn_merge, how='inner')\n",
    "intersect_3 = pd.merge(intersect_2, pca_merge, how='inner')\n",
    "print(intersect_3.loc[intersect_3['Anomaly']==1])"
   ]
  },
  {
   "cell_type": "code",
   "execution_count": 123,
   "id": "afc03098",
   "metadata": {},
   "outputs": [
    {
     "data": {
      "text/html": [
       "<pre style=\"white-space:pre;overflow-x:auto;line-height:normal;font-family:Menlo,'DejaVu Sans Mono',consolas,'Courier New',monospace\">Initializing save_model()\n",
       "</pre>\n"
      ],
      "text/plain": [
       "Initializing save_model()\n"
      ]
     },
     "metadata": {},
     "output_type": "display_data"
    },
    {
     "data": {
      "text/html": [
       "<pre style=\"white-space:pre;overflow-x:auto;line-height:normal;font-family:Menlo,'DejaVu Sans Mono',consolas,'Courier New',monospace\">save_model(model=IForest(behaviour='new', bootstrap=False, contamination=0.125,\n",
       "    max_features=1.0, max_samples='auto', n_estimators=100, n_jobs=-1,\n",
       "    random_state=7211, verbose=0), model_name=iforest_model_nm, prep_pipe_=Pipeline(memory=None,\n",
       "         steps=[('dtypes',\n",
       "                 DataTypes_Auto_infer(categorical_features=[],\n",
       "                                      display_types=False, features_todrop=[],\n",
       "                                      id_columns=[], ml_usecase='regression',\n",
       "                                      numerical_features=[],\n",
       "                                      target='UNSUPERVISED_DUMMY_TARGET',\n",
       "                                      time_features=[])),\n",
       "                ('imputer',\n",
       "                 Simple_Imputer(categorical_strategy='most frequent',\n",
       "                                fill_value_categorical=None,\n",
       "                                fill_value_numerical=Non...\n",
       "                ('scaling', 'passthrough'), ('P_transform', 'passthrough'),\n",
       "                ('binn', 'passthrough'), ('rem_outliers', 'passthrough'),\n",
       "                ('cluster_all', 'passthrough'),\n",
       "                ('dummy', Dummify(target='UNSUPERVISED_DUMMY_TARGET')),\n",
       "                ('fix_perfect', 'passthrough'),\n",
       "                ('clean_names', Clean_Colum_Names()),\n",
       "                ('feature_select', 'passthrough'), ('fix_multi', 'passthrough'),\n",
       "                ('dfs', 'passthrough'), ('pca', 'passthrough')],\n",
       "         verbose=False), verbose=True, kwargs={})\n",
       "</pre>\n"
      ],
      "text/plain": [
       "save_model(model=IForest(behaviour='new', bootstrap=False, contamination=0.125,\n",
       "    max_features=1.0, max_samples='auto', n_estimators=100, n_jobs=-1,\n",
       "    random_state=7211, verbose=0), model_name=iforest_model_nm, prep_pipe_=Pipeline(memory=None,\n",
       "         steps=[('dtypes',\n",
       "                 DataTypes_Auto_infer(categorical_features=[],\n",
       "                                      display_types=False, features_todrop=[],\n",
       "                                      id_columns=[], ml_usecase='regression',\n",
       "                                      numerical_features=[],\n",
       "                                      target='UNSUPERVISED_DUMMY_TARGET',\n",
       "                                      time_features=[])),\n",
       "                ('imputer',\n",
       "                 Simple_Imputer(categorical_strategy='most frequent',\n",
       "                                fill_value_categorical=None,\n",
       "                                fill_value_numerical=Non...\n",
       "                ('scaling', 'passthrough'), ('P_transform', 'passthrough'),\n",
       "                ('binn', 'passthrough'), ('rem_outliers', 'passthrough'),\n",
       "                ('cluster_all', 'passthrough'),\n",
       "                ('dummy', Dummify(target='UNSUPERVISED_DUMMY_TARGET')),\n",
       "                ('fix_perfect', 'passthrough'),\n",
       "                ('clean_names', Clean_Colum_Names()),\n",
       "                ('feature_select', 'passthrough'), ('fix_multi', 'passthrough'),\n",
       "                ('dfs', 'passthrough'), ('pca', 'passthrough')],\n",
       "         verbose=False), verbose=True, kwargs={})\n"
      ]
     },
     "metadata": {},
     "output_type": "display_data"
    },
    {
     "data": {
      "text/html": [
       "<pre style=\"white-space:pre;overflow-x:auto;line-height:normal;font-family:Menlo,'DejaVu Sans Mono',consolas,'Courier New',monospace\">Adding model into prep_pipe\n",
       "</pre>\n"
      ],
      "text/plain": [
       "Adding model into prep_pipe\n"
      ]
     },
     "metadata": {},
     "output_type": "display_data"
    },
    {
     "name": "stdout",
     "output_type": "stream",
     "text": [
      "Transformation Pipeline and Model Successfully Saved\n"
     ]
    },
    {
     "data": {
      "text/html": [
       "<pre style=\"white-space:pre;overflow-x:auto;line-height:normal;font-family:Menlo,'DejaVu Sans Mono',consolas,'Courier New',monospace\">iforest_model_nm.pkl saved in current working directory\n",
       "</pre>\n"
      ],
      "text/plain": [
       "iforest_model_nm.pkl saved in current working directory\n"
      ]
     },
     "metadata": {},
     "output_type": "display_data"
    },
    {
     "data": {
      "text/html": [
       "<pre style=\"white-space:pre;overflow-x:auto;line-height:normal;font-family:Menlo,'DejaVu Sans Mono',consolas,'Courier New',monospace\">Pipeline(memory=None,\n",
       "         steps=[('dtypes',\n",
       "                 DataTypes_Auto_infer(categorical_features=[],\n",
       "                                      display_types=False, features_todrop=[],\n",
       "                                      id_columns=[], ml_usecase='regression',\n",
       "                                      numerical_features=[],\n",
       "                                      target='UNSUPERVISED_DUMMY_TARGET',\n",
       "                                      time_features=[])),\n",
       "                ('imputer',\n",
       "                 Simple_Imputer(categorical_strategy='most frequent',\n",
       "                                fill_value_categorical=None,\n",
       "                                fill_value_numerical=Non...\n",
       "                ('fix_perfect', 'passthrough'),\n",
       "                ('clean_names', Clean_Colum_Names()),\n",
       "                ('feature_select', 'passthrough'), ('fix_multi', 'passthrough'),\n",
       "                ('dfs', 'passthrough'), ('pca', 'passthrough'),\n",
       "                ['trained_model',\n",
       "                 IForest(behaviour='new', bootstrap=False, contamination=0.125,\n",
       "    max_features=1.0, max_samples='auto', n_estimators=100, n_jobs=-1,\n",
       "    random_state=7211, verbose=0)]],\n",
       "         verbose=False)\n",
       "</pre>\n"
      ],
      "text/plain": [
       "Pipeline(memory=None,\n",
       "         steps=[('dtypes',\n",
       "                 DataTypes_Auto_infer(categorical_features=[],\n",
       "                                      display_types=False, features_todrop=[],\n",
       "                                      id_columns=[], ml_usecase='regression',\n",
       "                                      numerical_features=[],\n",
       "                                      target='UNSUPERVISED_DUMMY_TARGET',\n",
       "                                      time_features=[])),\n",
       "                ('imputer',\n",
       "                 Simple_Imputer(categorical_strategy='most frequent',\n",
       "                                fill_value_categorical=None,\n",
       "                                fill_value_numerical=Non...\n",
       "                ('fix_perfect', 'passthrough'),\n",
       "                ('clean_names', Clean_Colum_Names()),\n",
       "                ('feature_select', 'passthrough'), ('fix_multi', 'passthrough'),\n",
       "                ('dfs', 'passthrough'), ('pca', 'passthrough'),\n",
       "                ['trained_model',\n",
       "                 IForest(behaviour='new', bootstrap=False, contamination=0.125,\n",
       "    max_features=1.0, max_samples='auto', n_estimators=100, n_jobs=-1,\n",
       "    random_state=7211, verbose=0)]],\n",
       "         verbose=False)\n"
      ]
     },
     "metadata": {},
     "output_type": "display_data"
    },
    {
     "data": {
      "text/html": [
       "<pre style=\"white-space:pre;overflow-x:auto;line-height:normal;font-family:Menlo,'DejaVu Sans Mono',consolas,'Courier New',monospace\">save_model() successfully completed......................................\n",
       "</pre>\n"
      ],
      "text/plain": [
       "save_model() successfully completed......................................\n"
      ]
     },
     "metadata": {},
     "output_type": "display_data"
    },
    {
     "data": {
      "text/html": [
       "<pre style=\"white-space:pre;overflow-x:auto;line-height:normal;font-family:Menlo,'DejaVu Sans Mono',consolas,'Courier New',monospace\">Initializing save_model()\n",
       "</pre>\n"
      ],
      "text/plain": [
       "Initializing save_model()\n"
      ]
     },
     "metadata": {},
     "output_type": "display_data"
    },
    {
     "data": {
      "text/html": [
       "<pre style=\"white-space:pre;overflow-x:auto;line-height:normal;font-family:Menlo,'DejaVu Sans Mono',consolas,'Courier New',monospace\">save_model(model=OCSVM(cache_size=200, coef0=0.0, contamination=0.125, degree=3, gamma='auto',\n",
       "   kernel='rbf', max_iter=-1, nu=0.5, shrinking=True, tol=0.001,\n",
       "   verbose=False), model_name=svm_model_nm, prep_pipe_=Pipeline(memory=None,\n",
       "         steps=[('dtypes',\n",
       "                 DataTypes_Auto_infer(categorical_features=[],\n",
       "                                      display_types=False, features_todrop=[],\n",
       "                                      id_columns=[], ml_usecase='regression',\n",
       "                                      numerical_features=[],\n",
       "                                      target='UNSUPERVISED_DUMMY_TARGET',\n",
       "                                      time_features=[])),\n",
       "                ('imputer',\n",
       "                 Simple_Imputer(categorical_strategy='most frequent',\n",
       "                                fill_value_categorical=None,\n",
       "                                fill_value_numerical=Non...\n",
       "                ('scaling', 'passthrough'), ('P_transform', 'passthrough'),\n",
       "                ('binn', 'passthrough'), ('rem_outliers', 'passthrough'),\n",
       "                ('cluster_all', 'passthrough'),\n",
       "                ('dummy', Dummify(target='UNSUPERVISED_DUMMY_TARGET')),\n",
       "                ('fix_perfect', 'passthrough'),\n",
       "                ('clean_names', Clean_Colum_Names()),\n",
       "                ('feature_select', 'passthrough'), ('fix_multi', 'passthrough'),\n",
       "                ('dfs', 'passthrough'), ('pca', 'passthrough')],\n",
       "         verbose=False), verbose=True, kwargs={})\n",
       "</pre>\n"
      ],
      "text/plain": [
       "save_model(model=OCSVM(cache_size=200, coef0=0.0, contamination=0.125, degree=3, gamma='auto',\n",
       "   kernel='rbf', max_iter=-1, nu=0.5, shrinking=True, tol=0.001,\n",
       "   verbose=False), model_name=svm_model_nm, prep_pipe_=Pipeline(memory=None,\n",
       "         steps=[('dtypes',\n",
       "                 DataTypes_Auto_infer(categorical_features=[],\n",
       "                                      display_types=False, features_todrop=[],\n",
       "                                      id_columns=[], ml_usecase='regression',\n",
       "                                      numerical_features=[],\n",
       "                                      target='UNSUPERVISED_DUMMY_TARGET',\n",
       "                                      time_features=[])),\n",
       "                ('imputer',\n",
       "                 Simple_Imputer(categorical_strategy='most frequent',\n",
       "                                fill_value_categorical=None,\n",
       "                                fill_value_numerical=Non...\n",
       "                ('scaling', 'passthrough'), ('P_transform', 'passthrough'),\n",
       "                ('binn', 'passthrough'), ('rem_outliers', 'passthrough'),\n",
       "                ('cluster_all', 'passthrough'),\n",
       "                ('dummy', Dummify(target='UNSUPERVISED_DUMMY_TARGET')),\n",
       "                ('fix_perfect', 'passthrough'),\n",
       "                ('clean_names', Clean_Colum_Names()),\n",
       "                ('feature_select', 'passthrough'), ('fix_multi', 'passthrough'),\n",
       "                ('dfs', 'passthrough'), ('pca', 'passthrough')],\n",
       "         verbose=False), verbose=True, kwargs={})\n"
      ]
     },
     "metadata": {},
     "output_type": "display_data"
    },
    {
     "data": {
      "text/html": [
       "<pre style=\"white-space:pre;overflow-x:auto;line-height:normal;font-family:Menlo,'DejaVu Sans Mono',consolas,'Courier New',monospace\">Adding model into prep_pipe\n",
       "</pre>\n"
      ],
      "text/plain": [
       "Adding model into prep_pipe\n"
      ]
     },
     "metadata": {},
     "output_type": "display_data"
    },
    {
     "name": "stdout",
     "output_type": "stream",
     "text": [
      "Transformation Pipeline and Model Successfully Saved\n"
     ]
    },
    {
     "data": {
      "text/html": [
       "<pre style=\"white-space:pre;overflow-x:auto;line-height:normal;font-family:Menlo,'DejaVu Sans Mono',consolas,'Courier New',monospace\">svm_model_nm.pkl saved in current working directory\n",
       "</pre>\n"
      ],
      "text/plain": [
       "svm_model_nm.pkl saved in current working directory\n"
      ]
     },
     "metadata": {},
     "output_type": "display_data"
    },
    {
     "data": {
      "text/html": [
       "<pre style=\"white-space:pre;overflow-x:auto;line-height:normal;font-family:Menlo,'DejaVu Sans Mono',consolas,'Courier New',monospace\">Pipeline(memory=None,\n",
       "         steps=[('dtypes',\n",
       "                 DataTypes_Auto_infer(categorical_features=[],\n",
       "                                      display_types=False, features_todrop=[],\n",
       "                                      id_columns=[], ml_usecase='regression',\n",
       "                                      numerical_features=[],\n",
       "                                      target='UNSUPERVISED_DUMMY_TARGET',\n",
       "                                      time_features=[])),\n",
       "                ('imputer',\n",
       "                 Simple_Imputer(categorical_strategy='most frequent',\n",
       "                                fill_value_categorical=None,\n",
       "                                fill_value_numerical=Non...\n",
       "                ('dummy', Dummify(target='UNSUPERVISED_DUMMY_TARGET')),\n",
       "                ('fix_perfect', 'passthrough'),\n",
       "                ('clean_names', Clean_Colum_Names()),\n",
       "                ('feature_select', 'passthrough'), ('fix_multi', 'passthrough'),\n",
       "                ('dfs', 'passthrough'), ('pca', 'passthrough'),\n",
       "                ['trained_model',\n",
       "                 OCSVM(cache_size=200, coef0=0.0, contamination=0.125, degree=3, gamma='auto',\n",
       "   kernel='rbf', max_iter=-1, nu=0.5, shrinking=True, tol=0.001,\n",
       "   verbose=False)]],\n",
       "         verbose=False)\n",
       "</pre>\n"
      ],
      "text/plain": [
       "Pipeline(memory=None,\n",
       "         steps=[('dtypes',\n",
       "                 DataTypes_Auto_infer(categorical_features=[],\n",
       "                                      display_types=False, features_todrop=[],\n",
       "                                      id_columns=[], ml_usecase='regression',\n",
       "                                      numerical_features=[],\n",
       "                                      target='UNSUPERVISED_DUMMY_TARGET',\n",
       "                                      time_features=[])),\n",
       "                ('imputer',\n",
       "                 Simple_Imputer(categorical_strategy='most frequent',\n",
       "                                fill_value_categorical=None,\n",
       "                                fill_value_numerical=Non...\n",
       "                ('dummy', Dummify(target='UNSUPERVISED_DUMMY_TARGET')),\n",
       "                ('fix_perfect', 'passthrough'),\n",
       "                ('clean_names', Clean_Colum_Names()),\n",
       "                ('feature_select', 'passthrough'), ('fix_multi', 'passthrough'),\n",
       "                ('dfs', 'passthrough'), ('pca', 'passthrough'),\n",
       "                ['trained_model',\n",
       "                 OCSVM(cache_size=200, coef0=0.0, contamination=0.125, degree=3, gamma='auto',\n",
       "   kernel='rbf', max_iter=-1, nu=0.5, shrinking=True, tol=0.001,\n",
       "   verbose=False)]],\n",
       "         verbose=False)\n"
      ]
     },
     "metadata": {},
     "output_type": "display_data"
    },
    {
     "data": {
      "text/html": [
       "<pre style=\"white-space:pre;overflow-x:auto;line-height:normal;font-family:Menlo,'DejaVu Sans Mono',consolas,'Courier New',monospace\">save_model() successfully completed......................................\n",
       "</pre>\n"
      ],
      "text/plain": [
       "save_model() successfully completed......................................\n"
      ]
     },
     "metadata": {},
     "output_type": "display_data"
    },
    {
     "data": {
      "text/html": [
       "<pre style=\"white-space:pre;overflow-x:auto;line-height:normal;font-family:Menlo,'DejaVu Sans Mono',consolas,'Courier New',monospace\">Initializing save_model()\n",
       "</pre>\n"
      ],
      "text/plain": [
       "Initializing save_model()\n"
      ]
     },
     "metadata": {},
     "output_type": "display_data"
    },
    {
     "data": {
      "text/html": [
       "<pre style=\"white-space:pre;overflow-x:auto;line-height:normal;font-family:Menlo,'DejaVu Sans Mono',consolas,'Courier New',monospace\">save_model(model=KNN(algorithm='auto', contamination=0.125, leaf_size=30, method='largest',\n",
       "  metric='minkowski', metric_params=None, n_jobs=-1, n_neighbors=5, p=2,\n",
       "  radius=1.0), model_name=knn_model_nm, prep_pipe_=Pipeline(memory=None,\n",
       "         steps=[('dtypes',\n",
       "                 DataTypes_Auto_infer(categorical_features=[],\n",
       "                                      display_types=False, features_todrop=[],\n",
       "                                      id_columns=[], ml_usecase='regression',\n",
       "                                      numerical_features=[],\n",
       "                                      target='UNSUPERVISED_DUMMY_TARGET',\n",
       "                                      time_features=[])),\n",
       "                ('imputer',\n",
       "                 Simple_Imputer(categorical_strategy='most frequent',\n",
       "                                fill_value_categorical=None,\n",
       "                                fill_value_numerical=Non...\n",
       "                ('scaling', 'passthrough'), ('P_transform', 'passthrough'),\n",
       "                ('binn', 'passthrough'), ('rem_outliers', 'passthrough'),\n",
       "                ('cluster_all', 'passthrough'),\n",
       "                ('dummy', Dummify(target='UNSUPERVISED_DUMMY_TARGET')),\n",
       "                ('fix_perfect', 'passthrough'),\n",
       "                ('clean_names', Clean_Colum_Names()),\n",
       "                ('feature_select', 'passthrough'), ('fix_multi', 'passthrough'),\n",
       "                ('dfs', 'passthrough'), ('pca', 'passthrough')],\n",
       "         verbose=False), verbose=True, kwargs={})\n",
       "</pre>\n"
      ],
      "text/plain": [
       "save_model(model=KNN(algorithm='auto', contamination=0.125, leaf_size=30, method='largest',\n",
       "  metric='minkowski', metric_params=None, n_jobs=-1, n_neighbors=5, p=2,\n",
       "  radius=1.0), model_name=knn_model_nm, prep_pipe_=Pipeline(memory=None,\n",
       "         steps=[('dtypes',\n",
       "                 DataTypes_Auto_infer(categorical_features=[],\n",
       "                                      display_types=False, features_todrop=[],\n",
       "                                      id_columns=[], ml_usecase='regression',\n",
       "                                      numerical_features=[],\n",
       "                                      target='UNSUPERVISED_DUMMY_TARGET',\n",
       "                                      time_features=[])),\n",
       "                ('imputer',\n",
       "                 Simple_Imputer(categorical_strategy='most frequent',\n",
       "                                fill_value_categorical=None,\n",
       "                                fill_value_numerical=Non...\n",
       "                ('scaling', 'passthrough'), ('P_transform', 'passthrough'),\n",
       "                ('binn', 'passthrough'), ('rem_outliers', 'passthrough'),\n",
       "                ('cluster_all', 'passthrough'),\n",
       "                ('dummy', Dummify(target='UNSUPERVISED_DUMMY_TARGET')),\n",
       "                ('fix_perfect', 'passthrough'),\n",
       "                ('clean_names', Clean_Colum_Names()),\n",
       "                ('feature_select', 'passthrough'), ('fix_multi', 'passthrough'),\n",
       "                ('dfs', 'passthrough'), ('pca', 'passthrough')],\n",
       "         verbose=False), verbose=True, kwargs={})\n"
      ]
     },
     "metadata": {},
     "output_type": "display_data"
    },
    {
     "data": {
      "text/html": [
       "<pre style=\"white-space:pre;overflow-x:auto;line-height:normal;font-family:Menlo,'DejaVu Sans Mono',consolas,'Courier New',monospace\">Adding model into prep_pipe\n",
       "</pre>\n"
      ],
      "text/plain": [
       "Adding model into prep_pipe\n"
      ]
     },
     "metadata": {},
     "output_type": "display_data"
    },
    {
     "name": "stdout",
     "output_type": "stream",
     "text": [
      "Transformation Pipeline and Model Successfully Saved\n"
     ]
    },
    {
     "data": {
      "text/html": [
       "<pre style=\"white-space:pre;overflow-x:auto;line-height:normal;font-family:Menlo,'DejaVu Sans Mono',consolas,'Courier New',monospace\">knn_model_nm.pkl saved in current working directory\n",
       "</pre>\n"
      ],
      "text/plain": [
       "knn_model_nm.pkl saved in current working directory\n"
      ]
     },
     "metadata": {},
     "output_type": "display_data"
    },
    {
     "data": {
      "text/html": [
       "<pre style=\"white-space:pre;overflow-x:auto;line-height:normal;font-family:Menlo,'DejaVu Sans Mono',consolas,'Courier New',monospace\">Pipeline(memory=None,\n",
       "         steps=[('dtypes',\n",
       "                 DataTypes_Auto_infer(categorical_features=[],\n",
       "                                      display_types=False, features_todrop=[],\n",
       "                                      id_columns=[], ml_usecase='regression',\n",
       "                                      numerical_features=[],\n",
       "                                      target='UNSUPERVISED_DUMMY_TARGET',\n",
       "                                      time_features=[])),\n",
       "                ('imputer',\n",
       "                 Simple_Imputer(categorical_strategy='most frequent',\n",
       "                                fill_value_categorical=None,\n",
       "                                fill_value_numerical=Non...\n",
       "                ('fix_perfect', 'passthrough'),\n",
       "                ('clean_names', Clean_Colum_Names()),\n",
       "                ('feature_select', 'passthrough'), ('fix_multi', 'passthrough'),\n",
       "                ('dfs', 'passthrough'), ('pca', 'passthrough'),\n",
       "                ['trained_model',\n",
       "                 KNN(algorithm='auto', contamination=0.125, leaf_size=30, method='largest',\n",
       "  metric='minkowski', metric_params=None, n_jobs=-1, n_neighbors=5, p=2,\n",
       "  radius=1.0)]],\n",
       "         verbose=False)\n",
       "</pre>\n"
      ],
      "text/plain": [
       "Pipeline(memory=None,\n",
       "         steps=[('dtypes',\n",
       "                 DataTypes_Auto_infer(categorical_features=[],\n",
       "                                      display_types=False, features_todrop=[],\n",
       "                                      id_columns=[], ml_usecase='regression',\n",
       "                                      numerical_features=[],\n",
       "                                      target='UNSUPERVISED_DUMMY_TARGET',\n",
       "                                      time_features=[])),\n",
       "                ('imputer',\n",
       "                 Simple_Imputer(categorical_strategy='most frequent',\n",
       "                                fill_value_categorical=None,\n",
       "                                fill_value_numerical=Non...\n",
       "                ('fix_perfect', 'passthrough'),\n",
       "                ('clean_names', Clean_Colum_Names()),\n",
       "                ('feature_select', 'passthrough'), ('fix_multi', 'passthrough'),\n",
       "                ('dfs', 'passthrough'), ('pca', 'passthrough'),\n",
       "                ['trained_model',\n",
       "                 KNN(algorithm='auto', contamination=0.125, leaf_size=30, method='largest',\n",
       "  metric='minkowski', metric_params=None, n_jobs=-1, n_neighbors=5, p=2,\n",
       "  radius=1.0)]],\n",
       "         verbose=False)\n"
      ]
     },
     "metadata": {},
     "output_type": "display_data"
    },
    {
     "data": {
      "text/html": [
       "<pre style=\"white-space:pre;overflow-x:auto;line-height:normal;font-family:Menlo,'DejaVu Sans Mono',consolas,'Courier New',monospace\">save_model() successfully completed......................................\n",
       "</pre>\n"
      ],
      "text/plain": [
       "save_model() successfully completed......................................\n"
      ]
     },
     "metadata": {},
     "output_type": "display_data"
    },
    {
     "data": {
      "text/html": [
       "<pre style=\"white-space:pre;overflow-x:auto;line-height:normal;font-family:Menlo,'DejaVu Sans Mono',consolas,'Courier New',monospace\">Initializing save_model()\n",
       "</pre>\n"
      ],
      "text/plain": [
       "Initializing save_model()\n"
      ]
     },
     "metadata": {},
     "output_type": "display_data"
    },
    {
     "data": {
      "text/html": [
       "<pre style=\"white-space:pre;overflow-x:auto;line-height:normal;font-family:Menlo,'DejaVu Sans Mono',consolas,'Courier New',monospace\">save_model(model=PCA(contamination=0.125, copy=True, iterated_power='auto', n_components=None,\n",
       "  n_selected_components=None, random_state=7211, standardization=True,\n",
       "  svd_solver='auto', tol=0.0, weighted=True, whiten=False), model_name=pca_model_nm, prep_pipe_=Pipeline(memory=None,\n",
       "         steps=[('dtypes',\n",
       "                 DataTypes_Auto_infer(categorical_features=[],\n",
       "                                      display_types=False, features_todrop=[],\n",
       "                                      id_columns=[], ml_usecase='regression',\n",
       "                                      numerical_features=[],\n",
       "                                      target='UNSUPERVISED_DUMMY_TARGET',\n",
       "                                      time_features=[])),\n",
       "                ('imputer',\n",
       "                 Simple_Imputer(categorical_strategy='most frequent',\n",
       "                                fill_value_categorical=None,\n",
       "                                fill_value_numerical=Non...\n",
       "                ('scaling', 'passthrough'), ('P_transform', 'passthrough'),\n",
       "                ('binn', 'passthrough'), ('rem_outliers', 'passthrough'),\n",
       "                ('cluster_all', 'passthrough'),\n",
       "                ('dummy', Dummify(target='UNSUPERVISED_DUMMY_TARGET')),\n",
       "                ('fix_perfect', 'passthrough'),\n",
       "                ('clean_names', Clean_Colum_Names()),\n",
       "                ('feature_select', 'passthrough'), ('fix_multi', 'passthrough'),\n",
       "                ('dfs', 'passthrough'), ('pca', 'passthrough')],\n",
       "         verbose=False), verbose=True, kwargs={})\n",
       "</pre>\n"
      ],
      "text/plain": [
       "save_model(model=PCA(contamination=0.125, copy=True, iterated_power='auto', n_components=None,\n",
       "  n_selected_components=None, random_state=7211, standardization=True,\n",
       "  svd_solver='auto', tol=0.0, weighted=True, whiten=False), model_name=pca_model_nm, prep_pipe_=Pipeline(memory=None,\n",
       "         steps=[('dtypes',\n",
       "                 DataTypes_Auto_infer(categorical_features=[],\n",
       "                                      display_types=False, features_todrop=[],\n",
       "                                      id_columns=[], ml_usecase='regression',\n",
       "                                      numerical_features=[],\n",
       "                                      target='UNSUPERVISED_DUMMY_TARGET',\n",
       "                                      time_features=[])),\n",
       "                ('imputer',\n",
       "                 Simple_Imputer(categorical_strategy='most frequent',\n",
       "                                fill_value_categorical=None,\n",
       "                                fill_value_numerical=Non...\n",
       "                ('scaling', 'passthrough'), ('P_transform', 'passthrough'),\n",
       "                ('binn', 'passthrough'), ('rem_outliers', 'passthrough'),\n",
       "                ('cluster_all', 'passthrough'),\n",
       "                ('dummy', Dummify(target='UNSUPERVISED_DUMMY_TARGET')),\n",
       "                ('fix_perfect', 'passthrough'),\n",
       "                ('clean_names', Clean_Colum_Names()),\n",
       "                ('feature_select', 'passthrough'), ('fix_multi', 'passthrough'),\n",
       "                ('dfs', 'passthrough'), ('pca', 'passthrough')],\n",
       "         verbose=False), verbose=True, kwargs={})\n"
      ]
     },
     "metadata": {},
     "output_type": "display_data"
    },
    {
     "data": {
      "text/html": [
       "<pre style=\"white-space:pre;overflow-x:auto;line-height:normal;font-family:Menlo,'DejaVu Sans Mono',consolas,'Courier New',monospace\">Adding model into prep_pipe\n",
       "</pre>\n"
      ],
      "text/plain": [
       "Adding model into prep_pipe\n"
      ]
     },
     "metadata": {},
     "output_type": "display_data"
    },
    {
     "name": "stdout",
     "output_type": "stream",
     "text": [
      "Transformation Pipeline and Model Successfully Saved\n"
     ]
    },
    {
     "data": {
      "text/html": [
       "<pre style=\"white-space:pre;overflow-x:auto;line-height:normal;font-family:Menlo,'DejaVu Sans Mono',consolas,'Courier New',monospace\">pca_model_nm.pkl saved in current working directory\n",
       "</pre>\n"
      ],
      "text/plain": [
       "pca_model_nm.pkl saved in current working directory\n"
      ]
     },
     "metadata": {},
     "output_type": "display_data"
    },
    {
     "data": {
      "text/html": [
       "<pre style=\"white-space:pre;overflow-x:auto;line-height:normal;font-family:Menlo,'DejaVu Sans Mono',consolas,'Courier New',monospace\">Pipeline(memory=None,\n",
       "         steps=[('dtypes',\n",
       "                 DataTypes_Auto_infer(categorical_features=[],\n",
       "                                      display_types=False, features_todrop=[],\n",
       "                                      id_columns=[], ml_usecase='regression',\n",
       "                                      numerical_features=[],\n",
       "                                      target='UNSUPERVISED_DUMMY_TARGET',\n",
       "                                      time_features=[])),\n",
       "                ('imputer',\n",
       "                 Simple_Imputer(categorical_strategy='most frequent',\n",
       "                                fill_value_categorical=None,\n",
       "                                fill_value_numerical=Non...\n",
       "                ('clean_names', Clean_Colum_Names()),\n",
       "                ('feature_select', 'passthrough'), ('fix_multi', 'passthrough'),\n",
       "                ('dfs', 'passthrough'), ('pca', 'passthrough'),\n",
       "                ['trained_model',\n",
       "                 PCA(contamination=0.125, copy=True, iterated_power='auto', n_components=None,\n",
       "  n_selected_components=None, random_state=7211, standardization=True,\n",
       "  svd_solver='auto', tol=0.0, weighted=True, whiten=False)]],\n",
       "         verbose=False)\n",
       "</pre>\n"
      ],
      "text/plain": [
       "Pipeline(memory=None,\n",
       "         steps=[('dtypes',\n",
       "                 DataTypes_Auto_infer(categorical_features=[],\n",
       "                                      display_types=False, features_todrop=[],\n",
       "                                      id_columns=[], ml_usecase='regression',\n",
       "                                      numerical_features=[],\n",
       "                                      target='UNSUPERVISED_DUMMY_TARGET',\n",
       "                                      time_features=[])),\n",
       "                ('imputer',\n",
       "                 Simple_Imputer(categorical_strategy='most frequent',\n",
       "                                fill_value_categorical=None,\n",
       "                                fill_value_numerical=Non...\n",
       "                ('clean_names', Clean_Colum_Names()),\n",
       "                ('feature_select', 'passthrough'), ('fix_multi', 'passthrough'),\n",
       "                ('dfs', 'passthrough'), ('pca', 'passthrough'),\n",
       "                ['trained_model',\n",
       "                 PCA(contamination=0.125, copy=True, iterated_power='auto', n_components=None,\n",
       "  n_selected_components=None, random_state=7211, standardization=True,\n",
       "  svd_solver='auto', tol=0.0, weighted=True, whiten=False)]],\n",
       "         verbose=False)\n"
      ]
     },
     "metadata": {},
     "output_type": "display_data"
    },
    {
     "data": {
      "text/html": [
       "<pre style=\"white-space:pre;overflow-x:auto;line-height:normal;font-family:Menlo,'DejaVu Sans Mono',consolas,'Courier New',monospace\">save_model() successfully completed......................................\n",
       "</pre>\n"
      ],
      "text/plain": [
       "save_model() successfully completed......................................\n"
      ]
     },
     "metadata": {},
     "output_type": "display_data"
    },
    {
     "data": {
      "text/html": [
       "<pre style=\"white-space:pre;overflow-x:auto;line-height:normal;font-family:Menlo,'DejaVu Sans Mono',consolas,'Courier New',monospace\">Initializing load_model()\n",
       "</pre>\n"
      ],
      "text/plain": [
       "Initializing load_model()\n"
      ]
     },
     "metadata": {},
     "output_type": "display_data"
    },
    {
     "data": {
      "text/html": [
       "<pre style=\"white-space:pre;overflow-x:auto;line-height:normal;font-family:Menlo,'DejaVu Sans Mono',consolas,'Courier New',monospace\">load_model(model_name=iforest_model_nm, platform=None, authentication=None, verbose=True)\n",
       "</pre>\n"
      ],
      "text/plain": [
       "load_model(model_name=iforest_model_nm, platform=None, authentication=None, verbose=True)\n"
      ]
     },
     "metadata": {},
     "output_type": "display_data"
    },
    {
     "name": "stdout",
     "output_type": "stream",
     "text": [
      "Transformation Pipeline and Model Successfully Loaded\n"
     ]
    },
    {
     "data": {
      "text/html": [
       "<pre style=\"white-space:pre;overflow-x:auto;line-height:normal;font-family:Menlo,'DejaVu Sans Mono',consolas,'Courier New',monospace\">Initializing load_model()\n",
       "</pre>\n"
      ],
      "text/plain": [
       "Initializing load_model()\n"
      ]
     },
     "metadata": {},
     "output_type": "display_data"
    },
    {
     "data": {
      "text/html": [
       "<pre style=\"white-space:pre;overflow-x:auto;line-height:normal;font-family:Menlo,'DejaVu Sans Mono',consolas,'Courier New',monospace\">load_model(model_name=svm_model_nm, platform=None, authentication=None, verbose=True)\n",
       "</pre>\n"
      ],
      "text/plain": [
       "load_model(model_name=svm_model_nm, platform=None, authentication=None, verbose=True)\n"
      ]
     },
     "metadata": {},
     "output_type": "display_data"
    },
    {
     "name": "stdout",
     "output_type": "stream",
     "text": [
      "Transformation Pipeline and Model Successfully Loaded\n"
     ]
    },
    {
     "data": {
      "text/html": [
       "<pre style=\"white-space:pre;overflow-x:auto;line-height:normal;font-family:Menlo,'DejaVu Sans Mono',consolas,'Courier New',monospace\">Initializing load_model()\n",
       "</pre>\n"
      ],
      "text/plain": [
       "Initializing load_model()\n"
      ]
     },
     "metadata": {},
     "output_type": "display_data"
    },
    {
     "data": {
      "text/html": [
       "<pre style=\"white-space:pre;overflow-x:auto;line-height:normal;font-family:Menlo,'DejaVu Sans Mono',consolas,'Courier New',monospace\">load_model(model_name=knn_model_nm, platform=None, authentication=None, verbose=True)\n",
       "</pre>\n"
      ],
      "text/plain": [
       "load_model(model_name=knn_model_nm, platform=None, authentication=None, verbose=True)\n"
      ]
     },
     "metadata": {},
     "output_type": "display_data"
    },
    {
     "name": "stdout",
     "output_type": "stream",
     "text": [
      "Transformation Pipeline and Model Successfully Loaded\n"
     ]
    },
    {
     "data": {
      "text/html": [
       "<pre style=\"white-space:pre;overflow-x:auto;line-height:normal;font-family:Menlo,'DejaVu Sans Mono',consolas,'Courier New',monospace\">Initializing load_model()\n",
       "</pre>\n"
      ],
      "text/plain": [
       "Initializing load_model()\n"
      ]
     },
     "metadata": {},
     "output_type": "display_data"
    },
    {
     "data": {
      "text/html": [
       "<pre style=\"white-space:pre;overflow-x:auto;line-height:normal;font-family:Menlo,'DejaVu Sans Mono',consolas,'Courier New',monospace\">load_model(model_name=pca_model_nm, platform=None, authentication=None, verbose=True)\n",
       "</pre>\n"
      ],
      "text/plain": [
       "load_model(model_name=pca_model_nm, platform=None, authentication=None, verbose=True)\n"
      ]
     },
     "metadata": {},
     "output_type": "display_data"
    },
    {
     "name": "stdout",
     "output_type": "stream",
     "text": [
      "Transformation Pipeline and Model Successfully Loaded\n"
     ]
    }
   ],
   "source": [
    "#save and load models for test\n",
    "save_model(model = iforest_model, model_name = 'iforest_model_nm')\n",
    "save_model(model = svm_model, model_name = 'svm_model_nm')\n",
    "save_model(model = knn_model, model_name = 'knn_model_nm')\n",
    "save_model(model = pca_model, model_name = 'pca_model_nm')\n",
    "\n",
    "iforest_load = load_model('iforest_model_nm')\n",
    "svm_load = load_model('svm_model_nm')\n",
    "knn_load = load_model('knn_model_nm')\n",
    "pca_load = load_model('pca_model_nm')\n"
   ]
  },
  {
   "cell_type": "code",
   "execution_count": 124,
   "id": "2039e610",
   "metadata": {},
   "outputs": [],
   "source": [
    "iforest_test_array=np.array(iforest_load.predict(df_test)) \n",
    "iforest_indices = [index+921 for index, element in enumerate(iforest_test_array) if element == 1]\n",
    "svm_test_array=np.array(svm_load.predict(df_test))\n",
    "svm_indices = [index+921 for index, element in enumerate(svm_test_array) if element == 1]\n",
    "knn_test_array=np.array(knn_load.predict(df_test))\n",
    "knn_indices = [index+921 for index, element in enumerate(knn_test_array) if element == 1]\n",
    "pca_test_array=np.array(pca_load.predict(df_test))\n",
    "pca_indices = [index+921 for index, element in enumerate(pca_test_array) if element == 1]\n",
    "\n"
   ]
  },
  {
   "cell_type": "code",
   "execution_count": 125,
   "id": "c7fadf48",
   "metadata": {},
   "outputs": [
    {
     "name": "stdout",
     "output_type": "stream",
     "text": [
      "[921, 922, 923, 924, 925, 926, 927, 928, 929, 930, 931, 932, 933, 934, 935, 936, 937, 938, 939, 940, 941, 942, 943, 944, 945, 946, 947, 948, 949, 950, 951, 952, 953, 954, 955, 956, 957, 958, 959, 960, 961, 962, 963, 964, 965, 966, 967, 968, 969, 970, 971, 972, 973, 974, 975, 976, 977, 978, 979, 980, 981, 982, 984, 985, 987, 988, 990, 991, 992, 993, 994, 995, 996, 997, 1000, 1001, 1002, 1003, 1004, 1005, 1007, 1008, 1010, 1011, 1012, 1013, 1014, 1015, 1016, 1018, 1019, 1020, 1024, 1025, 1026, 1027, 1033, 1034, 1037, 1039, 1040, 1043, 1044, 1045, 1046, 1047, 1049, 1052, 1054, 1056, 1058, 1059, 1061, 1065, 1066, 1067, 1068, 1072, 1073, 1075, 1077, 1078, 1080, 1081, 1082, 1083, 1084, 1085, 1087, 1089, 1090, 1091, 1095, 1096, 1097, 1098, 1099, 1100, 1101, 1102, 1103, 1104, 1105, 1106, 1107, 1108, 1111, 1113, 1116, 1119, 1120, 1121, 1122, 1123, 1124, 1125, 1127, 1128, 1129, 1130, 1133, 1135, 1136, 1137, 1138, 1139, 1140, 1141, 1142, 1143, 1144, 1145, 1146, 1147, 1148, 1149, 1150, 1151, 1152, 1153, 1154, 1155, 1156, 1158, 1160, 1161, 1163, 1164, 1167, 1169, 1170, 1171, 1173, 1174, 1175, 1181]\n",
      "[2.06942614e+18 2.06634564e+18 2.07478406e+18 2.07191083e+18\n",
      " 2.07923518e+18 2.07649852e+18 2.08295354e+18 2.03485286e+18\n",
      " 2.04407545e+18 2.04152357e+18 2.04955167e+18 2.04720772e+18\n",
      " 2.05428874e+18 2.05204883e+18 2.04862181e+18 2.05697012e+18\n",
      " 2.05496222e+18 2.06222198e+18 2.05476553e+18 2.06078883e+18\n",
      " 2.06464583e+18 2.04593902e+18 2.04403639e+18 2.05182135e+18\n",
      " 2.05021547e+18 2.05095388e+18 2.05031610e+18 2.06632973e+18\n",
      " 2.04142546e+18 2.04106014e+18 2.04750109e+18 2.04724082e+18\n",
      " 2.05323192e+18 2.05281939e+18 2.05836078e+18 2.03387987e+18\n",
      " 2.04002158e+18 2.03940460e+18 2.04524597e+18 2.04490717e+18\n",
      " 2.05044051e+18 2.05005020e+18 2.03962789e+18 2.04800655e+18\n",
      " 2.04638893e+18 2.05369460e+18 2.04718259e+18 2.05315972e+18\n",
      " 2.05453537e+18 8.99176736e+17 8.62891979e+17 8.71982422e+17\n",
      " 8.74851473e+17 8.84167593e+17 8.90715011e+17 8.82128132e+17\n",
      " 8.86204927e+17 9.19243063e+17 9.18815070e+17 9.23204773e+17\n",
      " 8.99218159e+17 8.97212145e+17 5.49511303e+17 7.96034412e+17\n",
      " 8.44873580e+17 4.79851571e+17 1.09773899e+18 8.47267006e+17\n",
      " 5.78274045e+17 1.11530812e+18 8.32972496e+17 1.13090471e+18\n",
      " 8.00108241e+17 1.19710620e+18 7.73163338e+17 1.09033491e+18\n",
      " 2.04014493e+18 5.93689506e+17 4.78389028e+17 6.56914505e+17\n",
      " 6.65957071e+17 1.47973993e+18 8.95532068e+17 2.03088674e+18\n",
      " 8.45567155e+17 6.09291437e+17 6.73352472e+17 7.59628227e+17\n",
      " 5.85704850e+17 7.99983531e+17 1.09334414e+18 2.03834621e+18\n",
      " 1.24952047e+18 6.69666150e+17 6.68168429e+17 6.65995468e+17\n",
      " 4.80110277e+17 1.09278793e+18 7.96038513e+17 6.56731844e+17\n",
      " 5.55735099e+17 4.53108720e+17 5.40726308e+17 8.47257653e+17\n",
      " 9.71935413e+17 7.81963813e+17 7.62905602e+17 5.62552807e+17\n",
      " 4.91735136e+17 5.17896998e+17 6.15445108e+17 4.71488516e+17\n",
      " 6.56591894e+17 7.05428082e+17 5.43474044e+17 4.64427127e+17\n",
      " 8.47160788e+17 5.66153577e+17 2.04014493e+18 1.14021588e+18\n",
      " 4.93184117e+17 4.42879753e+17 8.45753665e+17 2.05923552e+18\n",
      " 7.82248814e+17 6.54508017e+17 6.71834792e+17 4.64419698e+17\n",
      " 7.01093619e+17 4.42903419e+17 5.03732787e+17 6.56561605e+17\n",
      " 4.53432136e+17 8.47257653e+17 4.95460452e+17 6.96225612e+17\n",
      " 4.99984264e+17 8.51601508e+17 2.04961854e+18 5.26562953e+17\n",
      " 1.19173763e+18 5.23730820e+17 4.42848035e+17 4.39132780e+17\n",
      " 6.65996757e+17 7.96040206e+17 9.87677948e+17 1.11427721e+18\n",
      " 5.40289524e+17 4.42903419e+17 5.22179880e+17 8.55346954e+17\n",
      " 8.19092967e+17 5.17867340e+17 1.12126234e+18 5.49511303e+17\n",
      " 8.49899488e+17 1.19514397e+18 4.76679371e+17 6.69643668e+17\n",
      " 7.81842002e+17 1.33703712e+18 1.22037846e+18 2.11908879e+18\n",
      " 2.27261183e+18 5.28375701e+17 7.63244944e+17 5.34331434e+17\n",
      " 8.40847509e+17 7.32785551e+17 2.01524054e+18 4.74314581e+17\n",
      " 5.34395411e+17 5.04272524e+17 2.08621990e+18 6.70567019e+17\n",
      " 6.82603039e+17 7.32031992e+17 1.29942330e+18 8.14977772e+17\n",
      " 1.11348166e+18 6.37941420e+17 7.37252548e+17 2.30804256e+18\n",
      " 2.04698664e+18 1.12352927e+18 1.48617806e+18 1.09640056e+18\n",
      " 5.12398791e+17 5.31687243e+17 2.24478360e+18 4.55361762e+17\n",
      " 2.23980458e+18 5.34345772e+17 5.27662334e+17 6.34709313e+17\n",
      " 4.82415903e+17 4.87947340e+17 6.70520247e+17 1.30978068e+18\n",
      " 7.11295632e+17 1.45767793e+18 6.71821324e+17 7.32815271e+17\n",
      " 1.19360794e+18 5.13865700e+17 1.45940749e+18 2.02398083e+18\n",
      " 1.25870137e+18 6.67496483e+17 5.06406449e+17 4.94157571e+17\n",
      " 7.40888725e+17 4.79583865e+17 8.70146633e+17 1.16168764e+18\n",
      " 9.61901360e+17 7.86530688e+17 1.47245523e+18 8.15560516e+17\n",
      " 1.20936112e+18 6.82012705e+17 1.13613685e+18 8.22367484e+17\n",
      " 8.87012240e+17 1.19687888e+18 9.60777620e+17 7.33008903e+17\n",
      " 1.45935757e+18 7.01161987e+17 6.84038436e+17 6.66996911e+17\n",
      " 2.01622887e+18 2.09996859e+18 7.81778864e+17 8.32036086e+17\n",
      " 4.90707073e+17 8.31844100e+17 5.12305689e+17 7.51403890e+17\n",
      " 1.25716178e+18 6.19136538e+17 6.94052246e+17 8.95076864e+17\n",
      " 5.26331114e+17 4.74385206e+17 6.31586493e+17 5.08050252e+17\n",
      " 7.70617803e+17 1.05700257e+18 2.08260509e+18 5.15919435e+17\n",
      " 7.88873813e+17 7.74225443e+17 6.32234974e+17 5.34705755e+17\n",
      " 5.46077426e+17 4.82980613e+17 5.26069782e+17 5.12470933e+17\n",
      " 1.09379131e+18 4.74334734e+17]\n"
     ]
    }
   ],
   "source": [
    "print(pca_indices)\n",
    "print(pca_decision)"
   ]
  },
  {
   "cell_type": "code",
   "execution_count": 126,
   "id": "4086740d",
   "metadata": {},
   "outputs": [
    {
     "data": {
      "text/plain": [
       "array([ 984,  987,  988,  990,  991,  992,  993,  995,  996,  997, 1000,\n",
       "       1003, 1005, 1007, 1008, 1010, 1019, 1020, 1024, 1025, 1026, 1027,\n",
       "       1033, 1034, 1037, 1039, 1043, 1045, 1046, 1047, 1049, 1052, 1054,\n",
       "       1056, 1058, 1059, 1061, 1066, 1067, 1068, 1072, 1073, 1075, 1077,\n",
       "       1078, 1080, 1081, 1082, 1084, 1085, 1087, 1089, 1090, 1095, 1096,\n",
       "       1097, 1098, 1099, 1100, 1101, 1102, 1103, 1104, 1105, 1106, 1107,\n",
       "       1111, 1113, 1116, 1119, 1121, 1124, 1127, 1129, 1130, 1133, 1135,\n",
       "       1136, 1137, 1138, 1139, 1140, 1141, 1142, 1143, 1144, 1145, 1146,\n",
       "       1147, 1149, 1150, 1151, 1152, 1153, 1154, 1155, 1156, 1158, 1160,\n",
       "       1161, 1163, 1164, 1167, 1169, 1170, 1171, 1173, 1174, 1175])"
      ]
     },
     "execution_count": 126,
     "metadata": {},
     "output_type": "execute_result"
    }
   ],
   "source": [
    "common_anomalies_t1=np.intersect1d(knn_indices,pca_indices) #find which indices are interected as anomalies\n",
    "common_anomalies_t2=np.intersect1d(common_anomalies_t1,svm_indices)\n",
    "common_anomalies_tall=np.intersect1d(common_anomalies_t2,iforest_indices)\n",
    "common_anomalies_tall"
   ]
  },
  {
   "cell_type": "code",
   "execution_count": 128,
   "id": "d7146ca6",
   "metadata": {},
   "outputs": [
    {
     "name": "stdout",
     "output_type": "stream",
     "text": [
      "[ 97  42 128  43  71  13  41  75   4  12 158 168  95 182 154 162 146  20\n",
      "  98 164] [122 116 112 188  99  61 166 164   4  78 146  95 144 101 102 130 128  13\n",
      " 121 158] [ 19 124 108 145  56  21  61 170 188  14 122  76 112  29 171 102 101 121\n",
      " 130 128] [ 56  76 154 146 130  30 128 124 188  62   4  95  78 171 102 166  61 144\n",
      " 158 121]\n"
     ]
    }
   ],
   "source": [
    "iforest_decision=np.array(iforest_load.decision_function(df_test)) #get anomaly scores\n",
    "svm_decision=np.array(svm_load.decision_function(df_test))\n",
    "pca_decision=np.array(pca_load.decision_function(df_test))\n",
    "knn_decision=np.array(knn_load.decision_function(df_test))\n",
    "\n",
    "top_n=20\n",
    "\n",
    "iforest_10 = np.argpartition(iforest_decision[62:], -top_n)[-top_n:] #get top 15 anomaly values\n",
    "svm_10 = np.argpartition(svm_decision[62:], -top_n)[-top_n:] #only for RBS_B0034\n",
    "pca_10 = np.argpartition(pca_decision[62:], -top_n)[-top_n:]\n",
    "knn_10 = np.argpartition(knn_decision[62:], -top_n)[-top_n:]\n",
    "print(iforest_10,svm_10,pca_10,knn_10)"
   ]
  },
  {
   "cell_type": "code",
   "execution_count": 129,
   "id": "22361c12",
   "metadata": {},
   "outputs": [
    {
     "name": "stdout",
     "output_type": "stream",
     "text": [
      "[ 987 1078 1111 1129 1141]\n",
      "[1111]\n",
      "0.07419210819927263 34.4921994820853 9.889245615312479 1.0977389855104776e+18\n",
      "1 1 1 1\n"
     ]
    }
   ],
   "source": [
    "common_10_1=np.intersect1d(knn_10,iforest_10) #find which indices are interected as anomalies\n",
    "common_10_2=np.intersect1d(common_10_1,svm_10)\n",
    "common_10_all=np.intersect1d(common_10_2,pca_10)\n",
    "print(common_10_2+921+62) #indexes on initial dataset\n",
    "print(common_10_all+921+62)\n",
    "\n",
    "#test anomaly values (boolean and analog)\n",
    "print(iforest_decision[common_10_2[0]+62],knn_decision[common_10_2[0]+62],svm_decision[common_10_2[0]+62],pca_decision[common_10_2[0]+62]) \n",
    "print(iforest_test_array[common_10_2[2]+62],knn_test_array[common_10_2[2]+62],svm_test_array[common_10_2[2]+62],pca_test_array[common_10_2[2]+62])\n"
   ]
  },
  {
   "cell_type": "code",
   "execution_count": 133,
   "id": "4fd37ae5",
   "metadata": {},
   "outputs": [
    {
     "name": "stdout",
     "output_type": "stream",
     "text": [
      "Seq Names       RBS_22_spacer_5_vol_5\n",
      "Sequences            AGAGGAGAAAGCCCCA\n",
      "A                              0.4375\n",
      "T                                 0.0\n",
      "C                                0.25\n",
      "G                              0.3125\n",
      "G+T                              12.5\n",
      "G+C                              62.5\n",
      "G+A                              50.0\n",
      "A+C                              87.5\n",
      "C+T                              50.0\n",
      "A+T                              37.5\n",
      "GT+TG                               0\n",
      "GA+AG                               1\n",
      "GC+CG                               1\n",
      "AC+CA                               1\n",
      "CT+TC                               0\n",
      "AT+TA                               0\n",
      "AA                                  1\n",
      "TT                                  0\n",
      "GG                                  0\n",
      "CC                                  3\n",
      "Conservatism                        5\n",
      "Average bpp                  1.637197\n",
      "Y                                 NaN\n",
      "Name: 987, dtype: object\n",
      "Seq Names       RBS_22_spacer_5_vol_96\n",
      "Sequences             AGAGGAGAAACCTCCA\n",
      "A                               0.4375\n",
      "T                               0.0625\n",
      "C                                 0.25\n",
      "G                                 0.25\n",
      "G+T                               12.5\n",
      "G+C                               50.0\n",
      "G+A                               37.5\n",
      "A+C                               87.5\n",
      "C+T                               62.5\n",
      "A+T                               50.0\n",
      "GT+TG                                0\n",
      "GA+AG                                0\n",
      "GC+CG                                0\n",
      "AC+CA                                2\n",
      "CT+TC                                2\n",
      "AT+TA                                0\n",
      "AA                                   1\n",
      "TT                                   0\n",
      "GG                                   0\n",
      "CC                                   2\n",
      "Conservatism                         5\n",
      "Average bpp                   5.361499\n",
      "Y                                  NaN\n",
      "Name: 1078, dtype: object\n",
      "Seq Names       RBS_22_spacer_6_vol_29\n",
      "Sequences             GAGGAGAAACATCCCA\n",
      "A                               0.4375\n",
      "T                               0.0625\n",
      "C                                 0.25\n",
      "G                                 0.25\n",
      "G+T                          11.111111\n",
      "G+C                          44.444444\n",
      "G+A                          44.444444\n",
      "A+C                          88.888889\n",
      "C+T                          55.555556\n",
      "A+T                          55.555556\n",
      "GT+TG                                0\n",
      "GA+AG                                0\n",
      "GC+CG                                0\n",
      "AC+CA                                3\n",
      "CT+TC                                1\n",
      "AT+TA                                1\n",
      "AA                                   1\n",
      "TT                                   0\n",
      "GG                                   0\n",
      "CC                                   2\n",
      "Conservatism                         5\n",
      "Average bpp                   3.036267\n",
      "Y                                  NaN\n",
      "Name: 1111, dtype: object\n",
      "Seq Names       RBS_22_spacer_6_vol_47\n",
      "Sequences             GAGGAGAAACCCGCAA\n",
      "A                               0.4375\n",
      "T                                  0.0\n",
      "C                                 0.25\n",
      "G                               0.3125\n",
      "G+T                          11.111111\n",
      "G+C                          55.555556\n",
      "G+A                          55.555556\n",
      "A+C                          88.888889\n",
      "C+T                          44.444444\n",
      "A+T                          44.444444\n",
      "GT+TG                                0\n",
      "GA+AG                                0\n",
      "GC+CG                                2\n",
      "AC+CA                                2\n",
      "CT+TC                                0\n",
      "AT+TA                                0\n",
      "AA                                   2\n",
      "TT                                   0\n",
      "GG                                   0\n",
      "CC                                   2\n",
      "Conservatism                         5\n",
      "Average bpp                   1.512655\n",
      "Y                                  NaN\n",
      "Name: 1129, dtype: object\n",
      "Seq Names       RBS_22_spacer_6_vol_59\n",
      "Sequences             GAGGAGAAACCCTCCA\n",
      "A                                0.375\n",
      "T                               0.0625\n",
      "C                               0.3125\n",
      "G                                 0.25\n",
      "G+T                          11.111111\n",
      "G+C                          55.555556\n",
      "G+A                          33.333333\n",
      "A+C                          88.888889\n",
      "C+T                          66.666667\n",
      "A+T                          44.444444\n",
      "GT+TG                                0\n",
      "GA+AG                                0\n",
      "GC+CG                                0\n",
      "AC+CA                                2\n",
      "CT+TC                                2\n",
      "AT+TA                                0\n",
      "AA                                   1\n",
      "TT                                   0\n",
      "GG                                   0\n",
      "CC                                   3\n",
      "Conservatism                         5\n",
      "Average bpp                   5.482024\n",
      "Y                                  NaN\n",
      "Name: 1141, dtype: object\n"
     ]
    }
   ],
   "source": [
    "#for i in range(len(common_10_all)):\n",
    "#    print(df_final.loc[common_10_all[i]+921+62]) #print sequences\n",
    "\n",
    "for i in range(len(common_10_2)):\n",
    "    print(df_final.loc[common_10_2[i]+62+921]) #final intersection results"
   ]
  }
 ],
 "metadata": {
  "kernelspec": {
   "display_name": "pycaret_kernel",
   "language": "python",
   "name": "pycaret_env"
  },
  "language_info": {
   "codemirror_mode": {
    "name": "ipython",
    "version": 3
   },
   "file_extension": ".py",
   "mimetype": "text/x-python",
   "name": "python",
   "nbconvert_exporter": "python",
   "pygments_lexer": "ipython3",
   "version": "3.8.13"
  }
 },
 "nbformat": 4,
 "nbformat_minor": 5
}
